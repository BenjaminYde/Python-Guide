{
 "cells": [
  {
   "cell_type": "markdown",
   "metadata": {},
   "source": [
    "## Creating a Logger\n",
    "\n",
    "Example notes:\n",
    "\n",
    "The root logger's level is set at WARNING by default, which means it will only handle log messages that are WARNING or more severe (`ERROR`, `CRITICAL`). \n",
    "\n",
    "Even though you have set the level of your custom logger ('example_logger') to `DEBUG`, if it doesn't have a handler attached to it, it will propagate the messages up to the root logger, which will then process them according to its own level setting."
   ]
  },
  {
   "cell_type": "code",
   "execution_count": null,
   "metadata": {},
   "outputs": [],
   "source": [
    "import logging\n",
    "\n",
    "# Create a logger\n",
    "logger = logging.getLogger('example_logger')\n",
    "logger.setLevel(logging.DEBUG)  # Set the minimum level of logs to handle\n",
    "\n",
    "# Log messages\n",
    "logger.debug('This is a debug message')\n",
    "logger.info('This is an info message')\n",
    "logger.warning('This is a warning message')\n",
    "logger.error('This is an error message')\n",
    "logger.critical('This is a critical message')"
   ]
  },
  {
   "cell_type": "markdown",
   "metadata": {},
   "source": [
    "## Creating a Handler\n",
    "\n",
    "Here, we've added two handlers to our logger: one for the console output and another for writing to a file.     \n",
    "Each handler can have its own level set, determining what it logs.    \n",
    "  \n",
    "When we now set the logging level to `DEBUG`, the log will come through. Previously this did not work."
   ]
  },
  {
   "cell_type": "code",
   "execution_count": null,
   "metadata": {},
   "outputs": [],
   "source": [
    "# Continue from the logger example above\n",
    "\n",
    "# Create handlers\n",
    "console_handler = logging.StreamHandler()  # Log to console\n",
    "file_handler = logging.FileHandler('app.log')  # Log to a file\n",
    "\n",
    "# Set level for handlers\n",
    "console_handler.setLevel(logging.DEBUG)\n",
    "file_handler.setLevel(logging.ERROR)\n",
    "\n",
    "# Add handlers to logger\n",
    "logger.addHandler(console_handler)\n",
    "logger.addHandler(file_handler)"
   ]
  },
  {
   "cell_type": "code",
   "execution_count": null,
   "metadata": {},
   "outputs": [],
   "source": [
    "# These messages will go to different destinations depending on their level\n",
    "logger.debug('DEBUG: This will go to console')\n",
    "logger.warning('WARNING: This will go to console')\n",
    "logger.error('ERROR: This will go to both console and file')"
   ]
  },
  {
   "cell_type": "markdown",
   "metadata": {},
   "source": [
    "## Filtering"
   ]
  },
  {
   "cell_type": "code",
   "execution_count": null,
   "metadata": {},
   "outputs": [],
   "source": [
    "# Continue from the logger and handler examples above\n",
    "\n",
    "# Define a filter\n",
    "class NoDebugFilter(logging.Filter):\n",
    "    def filter(self, record) -> bool:\n",
    "        # Only allow log messages that are not DEBUG\n",
    "        return record.levelno != logging.DEBUG\n",
    "\n",
    "# Add filter to console handler\n",
    "console_handler.addFilter(NoDebugFilter())\n",
    "\n",
    "# Now, DEBUG messages won't be printed to the console\n",
    "logger.debug('DEBUG: This debug message will not be shown in the console')\n",
    "logger.warning('WARNING: This debug message will not be shown in the console')"
   ]
  },
  {
   "cell_type": "markdown",
   "metadata": {},
   "source": [
    "## Formatting"
   ]
  },
  {
   "cell_type": "code",
   "execution_count": null,
   "metadata": {},
   "outputs": [],
   "source": [
    "# Continue from the logger, handler, and filter examples above\n",
    "\n",
    "# Create formatter\n",
    "formatter = logging.Formatter('%(asctime)s - %(name)s - %(levelname)s - %(message)s')\n",
    "\n",
    "# Add formatter to handlers\n",
    "console_handler.setFormatter(formatter)\n",
    "file_handler.setFormatter(formatter)\n",
    "\n",
    "# Now, log messages will include the timestamp, logger name, level, and message\n",
    "logger.info('This info message will have a specific format in console and file')"
   ]
  }
 ],
 "metadata": {
  "kernelspec": {
   "display_name": "Python 3",
   "language": "python",
   "name": "python3"
  },
  "language_info": {
   "codemirror_mode": {
    "name": "ipython",
    "version": 3
   },
   "file_extension": ".py",
   "mimetype": "text/x-python",
   "name": "python",
   "nbconvert_exporter": "python",
   "pygments_lexer": "ipython3",
   "version": "3.10.12"
  }
 },
 "nbformat": 4,
 "nbformat_minor": 2
}
