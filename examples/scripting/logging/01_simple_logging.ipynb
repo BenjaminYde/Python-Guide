{
 "cells": [
  {
   "cell_type": "code",
   "execution_count": null,
   "metadata": {},
   "outputs": [],
   "source": [
    "import logging\n",
    "\n",
    "logging.getLogger().setLevel(logging.WARNING) # this is the default behaviour (when not explicitly set)\n",
    "\n",
    "logging.debug('This is a debug message') # will NOT be displayed\n",
    "logging.info('Informational message') # will NOT be displayed\n",
    "logging.warning('Warning occurred')\n",
    "logging.error('An error has happened')\n",
    "logging.critical('Critical issue')"
   ]
  },
  {
   "cell_type": "code",
   "execution_count": null,
   "metadata": {},
   "outputs": [],
   "source": [
    "import logging\n",
    "\n",
    "logging.getLogger().setLevel(logging.DEBUG)\n",
    "\n",
    "logging.debug('This is a debug message')\n",
    "logging.info('Informational message')\n",
    "logging.warning('Warning occurred')\n",
    "logging.error('An error has happened')\n",
    "logging.critical('Critical issue')"
   ]
  }
 ],
 "metadata": {
  "kernelspec": {
   "display_name": "Python 3",
   "language": "python",
   "name": "python3"
  },
  "language_info": {
   "codemirror_mode": {
    "name": "ipython",
    "version": 3
   },
   "file_extension": ".py",
   "mimetype": "text/x-python",
   "name": "python",
   "nbconvert_exporter": "python",
   "pygments_lexer": "ipython3",
   "version": "3.10.12"
  }
 },
 "nbformat": 4,
 "nbformat_minor": 2
}
