{
 "cells": [
  {
   "cell_type": "markdown",
   "metadata": {},
   "source": [
    "## Creating a GET Request"
   ]
  },
  {
   "cell_type": "code",
   "execution_count": null,
   "metadata": {},
   "outputs": [],
   "source": [
    "import requests\n",
    "import json\n",
    "\n",
    "response = requests.get('http://127.0.0.1:5000/users')\n",
    "if response.status_code == 200:\n",
    "    data = response.json()\n",
    "    formatted_json = json.dumps(data, indent=4) \n",
    "    print(\"Users:\", formatted_json)\n",
    "else:\n",
    "    print(\"Failed to fetch users\")"
   ]
  },
  {
   "cell_type": "markdown",
   "metadata": {},
   "source": [
    "## Creating a POST Request"
   ]
  },
  {
   "cell_type": "code",
   "execution_count": 34,
   "metadata": {},
   "outputs": [
    {
     "name": "stdout",
     "output_type": "stream",
     "text": [
      "User added: {\n",
      "  \"8\": {\n",
      "    \"email\": \"jane@example.com\",\n",
      "    \"name\": \"Jane Doe\"\n",
      "  }\n",
      "}\n"
     ]
    }
   ],
   "source": [
    "import requests\n",
    "\n",
    "new_user = {\"name\": \"Jane Doe\", \"email\": \"jane@example.com\"}\n",
    "\n",
    "response = requests.post('http://127.0.0.1:5000/users', json=new_user)\n",
    "if response.status_code == 201:\n",
    "    data = response.json()\n",
    "    formatted_json = json.dumps(data, indent=4) \n",
    "    print(\"User added:\", formatted_json)\n",
    "else:\n",
    "    print(\"Failed to add user\")"
   ]
  },
  {
   "cell_type": "markdown",
   "metadata": {},
   "source": [
    "## Creating a PUT Request"
   ]
  },
  {
   "cell_type": "code",
   "execution_count": 35,
   "metadata": {},
   "outputs": [
    {
     "name": "stdout",
     "output_type": "stream",
     "text": [
      "User updated: {\n",
      "    \"1\": {\n",
      "        \"email\": \"john.smith@example.com\",\n",
      "        \"name\": \"John Smith\"\n",
      "    }\n",
      "}\n"
     ]
    }
   ],
   "source": [
    "import requests\n",
    "\n",
    "user_update = {\"name\": \"John Smith\", \"email\": \"john.smith@example.com\"}\n",
    "response = requests.put('http://127.0.0.1:5000/users/1', json=user_update)\n",
    "if response.status_code == 200:\n",
    "    data = response.json()\n",
    "    formatted_json = json.dumps(data, indent=4) \n",
    "    print(\"User updated:\", formatted_json)\n",
    "else:\n",
    "    print(\"Failed to update user\")"
   ]
  },
  {
   "cell_type": "markdown",
   "metadata": {},
   "source": [
    "## Creating a PATCH Request"
   ]
  },
  {
   "cell_type": "code",
   "execution_count": 36,
   "metadata": {},
   "outputs": [
    {
     "name": "stdout",
     "output_type": "stream",
     "text": [
      "User partially updated: {\n",
      "    \"1\": {\n",
      "        \"email\": \"new.john@example.com\",\n",
      "        \"name\": \"John Smith\"\n",
      "    }\n",
      "}\n"
     ]
    }
   ],
   "source": [
    "import requests\n",
    "\n",
    "user_partial_update = {\"email\": \"new.john@example.com\"}\n",
    "response = requests.patch('http://127.0.0.1:5000/users/1', json=user_partial_update)\n",
    "if response.status_code == 200:\n",
    "    data = response.json()\n",
    "    formatted_json = json.dumps(data, indent=4) \n",
    "    print(\"User partially updated:\", formatted_json)\n",
    "else:\n",
    "    print(\"Failed to partially update user\")"
   ]
  },
  {
   "cell_type": "markdown",
   "metadata": {},
   "source": [
    "## Creating a DELETE Request"
   ]
  },
  {
   "cell_type": "code",
   "execution_count": 20,
   "metadata": {},
   "outputs": [
    {
     "name": "stdout",
     "output_type": "stream",
     "text": [
      "Failed to delete user\n"
     ]
    }
   ],
   "source": [
    "import requests\n",
    "\n",
    "response = requests.delete('http://127.0.0.1:5000/users/1')\n",
    "if response.status_code == 200:\n",
    "    data = response.json()\n",
    "    formatted_json = json.dumps(data, indent=4) \n",
    "    print(formatted_json)\n",
    "else:\n",
    "    print(\"Failed to delete user\")"
   ]
  }
 ],
 "metadata": {
  "kernelspec": {
   "display_name": "Python 3 (ipykernel)",
   "language": "python",
   "name": "python3"
  },
  "language_info": {
   "codemirror_mode": {
    "name": "ipython",
    "version": 3
   },
   "file_extension": ".py",
   "mimetype": "text/x-python",
   "name": "python",
   "nbconvert_exporter": "python",
   "pygments_lexer": "ipython3",
   "version": "3.10.12"
  }
 },
 "nbformat": 4,
 "nbformat_minor": 2
}
