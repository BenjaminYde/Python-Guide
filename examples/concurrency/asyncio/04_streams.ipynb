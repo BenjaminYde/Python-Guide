{
 "cells": [
  {
   "cell_type": "markdown",
   "metadata": {},
   "source": [
    "## Create TCP Server and client"
   ]
  },
  {
   "cell_type": "code",
   "execution_count": null,
   "metadata": {},
   "outputs": [],
   "source": [
    "import asyncio\n",
    "from asyncio import StreamReader, StreamWriter, Server\n",
    "\n",
    "addres = '127.0.0.1'\n",
    "port = 8888\n",
    "\n",
    "async def serve_server(server: Server):\n",
    "    print(\"Server is running...\")\n",
    "    try:\n",
    "        await server.serve_forever()\n",
    "    except asyncio.CancelledError:\n",
    "        print(\"Server terminated!\")\n",
    "        \n",
    "async def stop_server(server):\n",
    "    await asyncio.sleep(4)\n",
    "    server.close()\n",
    "\n",
    "async def server_handle_client(reader: StreamReader, writer: StreamWriter):\n",
    "    # Wait for message from a client\n",
    "    data = await reader.read(100)  # Read up to 100 bytes\n",
    "    message = data.decode('utf8')\n",
    "    address = writer.get_extra_info('peername')\n",
    "    print(f\"Server: Received {message} from {address}\")\n",
    "\n",
    "    # Send a response to the client\n",
    "    print(\"Server: Sending response to client...\")\n",
    "    new_message = \"Sever is terminating...\"\n",
    "    new_data = new_message.encode('utf8')\n",
    "    writer.write(new_data)\n",
    "    await writer.drain()\n",
    "\n",
    "    # Close the connection\n",
    "    writer.close()\n",
    "\n",
    "async def tcp_echo_client():\n",
    "    # Connect to the server\n",
    "    await asyncio.sleep(1)  # Give the server time to start\n",
    "    reader, writer = await asyncio.open_connection(addres, port)\n",
    "\n",
    "    # Send a message to the server\n",
    "    print(\"Client: Sending message...\")\n",
    "    message = 'Hello World!'\n",
    "    writer.write(message.encode('utf8'))\n",
    "    await writer.drain()\n",
    "\n",
    "    # Receive a response\n",
    "    data = await reader.read(100)\n",
    "    print(f\"Client: Reveived from Server: {data.decode('utf8')}\")\n",
    "\n",
    "    # Close the connection\n",
    "    writer.close()\n",
    "    await writer.wait_closed()\n",
    "\n",
    "async def main():\n",
    "     # Start both the server and client concurrently\n",
    "    server = await asyncio.start_server(server_handle_client, addres, port)\n",
    "    \n",
    "    await asyncio.gather(\n",
    "        serve_server(server),\n",
    "        tcp_echo_client(),\n",
    "        stop_server(server)\n",
    "    )\n",
    "\n",
    "await main()"
   ]
  }
 ],
 "metadata": {
  "kernelspec": {
   "display_name": "Python 3",
   "language": "python",
   "name": "python3"
  },
  "language_info": {
   "codemirror_mode": {
    "name": "ipython",
    "version": 3
   },
   "file_extension": ".py",
   "mimetype": "text/x-python",
   "name": "python",
   "nbconvert_exporter": "python",
   "pygments_lexer": "ipython3",
   "version": "3.10.12"
  }
 },
 "nbformat": 4,
 "nbformat_minor": 2
}
