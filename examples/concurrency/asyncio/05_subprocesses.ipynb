{
 "cells": [
  {
   "cell_type": "markdown",
   "metadata": {},
   "source": [
    "## Example: Ping To Multiple Hosts"
   ]
  },
  {
   "cell_type": "code",
   "execution_count": null,
   "metadata": {},
   "outputs": [],
   "source": [
    "import asyncio\n",
    "\n",
    "async def ping(host):\n",
    "    # Build the ping command\n",
    "    cmd = f'ping -c 1 -W 1 {host}' # try 1x, max wait time 1 sec\n",
    "\n",
    "    # Start the subprocess\n",
    "    process = await asyncio.create_subprocess_shell(\n",
    "        cmd,\n",
    "        stdout=asyncio.subprocess.PIPE,\n",
    "        stderr=asyncio.subprocess.PIPE)\n",
    "\n",
    "    # Wait for the subprocess to finish\n",
    "    stdout, stderr = await process.communicate()\n",
    "\n",
    "    if process.returncode == 0:\n",
    "        # Success, the host is reachable\n",
    "        print(f\"Host {host} is reachable\")\n",
    "    else:\n",
    "        # An error occurred, the host might be unreachable\n",
    "        print(f\"Host {host} is unreachable\")\n",
    "        if stderr:\n",
    "            print(f\"Error: {stderr.decode().strip()}\")\n",
    "\n",
    "async def main():\n",
    "    hosts = [\"8.8.8.8\", \"192.168.1.1\", \"github.com\"]\n",
    "    await asyncio.gather(*(ping(host) for host in hosts))\n",
    "\n",
    "await main()"
   ]
  }
 ],
 "metadata": {
  "kernelspec": {
   "display_name": "Python 3",
   "language": "python",
   "name": "python3"
  },
  "language_info": {
   "codemirror_mode": {
    "name": "ipython",
    "version": 3
   },
   "file_extension": ".py",
   "mimetype": "text/x-python",
   "name": "python",
   "nbconvert_exporter": "python",
   "pygments_lexer": "ipython3",
   "version": "3.10.12"
  }
 },
 "nbformat": 4,
 "nbformat_minor": 2
}
