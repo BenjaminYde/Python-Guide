{
 "cells": [
  {
   "cell_type": "markdown",
   "metadata": {},
   "source": [
    "## asyncio.gather"
   ]
  },
  {
   "cell_type": "code",
   "execution_count": null,
   "metadata": {},
   "outputs": [],
   "source": [
    "import asyncio\n",
    "import time\n",
    "\n",
    "async def create_coffee():\n",
    "    print(\"Creating coffee...\")\n",
    "    await asyncio.sleep(2)  # Non-blocking sleep\n",
    "    print(\"Created coffee!\")\n",
    "\n",
    "async def create_toast():\n",
    "    print(\"Creating toast...\")\n",
    "    await asyncio.sleep(3)  # Non-blocking sleep\n",
    "    print(\"Created toast!\")\n",
    "\n",
    "async def run():\n",
    "    start_time = time.time()\n",
    "\n",
    "    await asyncio.gather(\n",
    "        create_coffee(),\n",
    "        create_toast()\n",
    "    )\n",
    "\n",
    "    end_time = time.time()\n",
    "    duration = end_time - start_time\n",
    "    print(f\"Total time = {duration:.2f} seconds\")\n",
    "\n",
    "await run() # instead of asyncio.run(run())\n"
   ]
  },
  {
   "cell_type": "markdown",
   "metadata": {},
   "source": [
    "## asyncio.wait"
   ]
  },
  {
   "cell_type": "code",
   "execution_count": null,
   "metadata": {},
   "outputs": [],
   "source": [
    "import asyncio\n",
    "\n",
    "async def task(n):\n",
    "    await asyncio.sleep(n)\n",
    "    return n\n",
    "\n",
    "async def main():\n",
    "    tasks = [\n",
    "        asyncio.create_task(task(1)), \n",
    "        asyncio.create_task(task(2)), \n",
    "        asyncio.create_task(task(3))\n",
    "    ]\n",
    "    done, pending = await asyncio.wait(tasks, return_when=asyncio.FIRST_COMPLETED)\n",
    "\n",
    "    for d in done:\n",
    "        print(f\"Task completed with result: {d.result()}\")\n",
    "\n",
    "    for p in pending:\n",
    "        print(\"Cancelling a pending task\")\n",
    "        p.cancel()\n",
    "\n",
    "await main()"
   ]
  },
  {
   "cell_type": "markdown",
   "metadata": {},
   "source": [
    "## asyncio.wait_for"
   ]
  },
  {
   "cell_type": "code",
   "execution_count": null,
   "metadata": {},
   "outputs": [],
   "source": [
    "import asyncio\n",
    "\n",
    "async def long_running_task():\n",
    "    await asyncio.sleep(10)\n",
    "\n",
    "async def main():\n",
    "    try:\n",
    "        await asyncio.wait_for(long_running_task(), timeout=2)\n",
    "    except asyncio.TimeoutError:\n",
    "        print(\"The task took too long to complete\")\n",
    "        \n",
    "await main()"
   ]
  },
  {
   "cell_type": "markdown",
   "metadata": {},
   "source": [
    "## asyncio.as_completed"
   ]
  },
  {
   "cell_type": "code",
   "execution_count": null,
   "metadata": {},
   "outputs": [],
   "source": [
    "import asyncio\n",
    "\n",
    "async def task(delay):\n",
    "    await asyncio.sleep(delay)\n",
    "    return delay\n",
    "\n",
    "async def main():\n",
    "    tasks = [task(3), task(1), task(2)]\n",
    "    for routine in asyncio.as_completed(tasks):\n",
    "        result = await routine\n",
    "        print(f\"Completed task with result: {result}\")\n",
    "        \n",
    "await main()"
   ]
  },
  {
   "cell_type": "markdown",
   "metadata": {},
   "source": [
    "## asyncio.ensure_future"
   ]
  },
  {
   "cell_type": "code",
   "execution_count": null,
   "metadata": {},
   "outputs": [],
   "source": [
    "import asyncio\n",
    "\n",
    "async def my_coroutine():\n",
    "    await asyncio.sleep(1)\n",
    "    return \"Hello World!\"\n",
    "\n",
    "async def main():\n",
    "    # Wrapping a coroutine into a Future object\n",
    "    future = asyncio.ensure_future(my_coroutine())\n",
    "\n",
    "    # Do other stuff here if needed\n",
    "    # ...\n",
    "\n",
    "    # Wait for the future to be done and get its result\n",
    "    result = await future\n",
    "    print(result)\n",
    "    \n",
    "await main()"
   ]
  }
 ],
 "metadata": {
  "kernelspec": {
   "display_name": "Python 3",
   "language": "python",
   "name": "python3"
  },
  "language_info": {
   "codemirror_mode": {
    "name": "ipython",
    "version": 3
   },
   "file_extension": ".py",
   "mimetype": "text/x-python",
   "name": "python",
   "nbconvert_exporter": "python",
   "pygments_lexer": "ipython3",
   "version": "3.10.12"
  }
 },
 "nbformat": 4,
 "nbformat_minor": 2
}
