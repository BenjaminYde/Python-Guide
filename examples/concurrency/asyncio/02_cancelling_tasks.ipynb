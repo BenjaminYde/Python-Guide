{
 "cells": [
  {
   "cell_type": "markdown",
   "metadata": {},
   "source": [
    "## Cancelling Tasks"
   ]
  },
  {
   "cell_type": "code",
   "execution_count": null,
   "metadata": {},
   "outputs": [],
   "source": [
    "import asyncio\n",
    "\n",
    "async def check_updates(interval):\n",
    "    try:\n",
    "        while True:\n",
    "            # Simulate a task that checks for updates\n",
    "            print(\"Checking for updates...\")\n",
    "            await asyncio.sleep(interval)\n",
    "    except asyncio.CancelledError:\n",
    "        print(\"Update check has been cancelled\")\n",
    "        # Perform any cleanup here\n",
    "        raise\n",
    "\n",
    "async def main():\n",
    "    # Create the task\n",
    "    update_task = asyncio.create_task(check_updates(0.75))\n",
    "\n",
    "    # Run the task for a while\n",
    "    await asyncio.sleep(3)\n",
    "\n",
    "    # Cancel the task\n",
    "    update_task.cancel()\n",
    "\n",
    "    try:\n",
    "        # Wait for the cancellation to complete\n",
    "        await update_task\n",
    "    except asyncio.CancelledError:\n",
    "        print(\"Main: The update task was cancelled\")\n",
    "\n",
    "# Run the main coroutine\n",
    "await main()"
   ]
  }
 ],
 "metadata": {
  "kernelspec": {
   "display_name": "Python 3",
   "language": "python",
   "name": "python3"
  },
  "language_info": {
   "codemirror_mode": {
    "name": "ipython",
    "version": 3
   },
   "file_extension": ".py",
   "mimetype": "text/x-python",
   "name": "python",
   "nbconvert_exporter": "python",
   "pygments_lexer": "ipython3",
   "version": "3.10.12"
  }
 },
 "nbformat": 4,
 "nbformat_minor": 2
}
