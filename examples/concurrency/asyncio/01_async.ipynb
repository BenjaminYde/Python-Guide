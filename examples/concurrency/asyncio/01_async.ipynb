{
 "cells": [
  {
   "cell_type": "markdown",
   "metadata": {},
   "source": [
    "Notes: \n",
    "\n",
    "Running `asyncio` code in a Jupyter Notebook requires a slightly different approach because Jupyter itself manages an event loop. Here's how you can adapt the code to run in a Jupyter Notebook:\n",
    "\n",
    "In a Jupyter Notebook, you typically don't need to manually get or manage the event loop. You can directly use `await` with your coroutine. Modify your run function as needed and then simply call it with `await` in a notebook cell."
   ]
  },
  {
   "cell_type": "code",
   "execution_count": 5,
   "metadata": {},
   "outputs": [
    {
     "name": "stdout",
     "output_type": "stream",
     "text": [
      "Creating coffee...\n",
      "Creating toast...\n",
      "Created coffee!\n",
      "Created toast!\n",
      "Total time = 3.00 seconds\n"
     ]
    }
   ],
   "source": [
    "import asyncio\n",
    "import time\n",
    "\n",
    "async def create_coffee():\n",
    "    print(\"Creating coffee...\")\n",
    "    await asyncio.sleep(2)  # Non-blocking sleep\n",
    "    print(\"Created coffee!\")\n",
    "\n",
    "async def create_toast():\n",
    "    print(\"Creating toast...\")\n",
    "    await asyncio.sleep(3)  # Non-blocking sleep\n",
    "    print(\"Created toast!\")\n",
    "\n",
    "async def run():\n",
    "    start_time = time.time()\n",
    "\n",
    "    await asyncio.gather(\n",
    "        create_coffee(),\n",
    "        create_toast()\n",
    "    )\n",
    "\n",
    "    end_time = time.time()\n",
    "    duration = end_time - start_time\n",
    "    print(f\"Total time = {duration:.2f} seconds\")\n",
    "\n",
    "await run() # instead of asyncio.run(run())\n"
   ]
  }
 ],
 "metadata": {
  "kernelspec": {
   "display_name": "Python 3",
   "language": "python",
   "name": "python3"
  },
  "language_info": {
   "codemirror_mode": {
    "name": "ipython",
    "version": 3
   },
   "file_extension": ".py",
   "mimetype": "text/x-python",
   "name": "python",
   "nbconvert_exporter": "python",
   "pygments_lexer": "ipython3",
   "version": "3.10.12"
  }
 },
 "nbformat": 4,
 "nbformat_minor": 2
}
