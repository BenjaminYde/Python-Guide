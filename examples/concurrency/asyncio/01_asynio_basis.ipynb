{
 "cells": [
  {
   "cell_type": "markdown",
   "metadata": {},
   "source": [
    "## Event loop"
   ]
  },
  {
   "cell_type": "code",
   "execution_count": null,
   "metadata": {},
   "outputs": [],
   "source": [
    "import asyncio\n",
    "\n",
    "async def main():\n",
    "    print('Hello')\n",
    "    await asyncio.sleep(1)  # Simulates a non-blocking wait\n",
    "    print('World')\n",
    "\n",
    "await main()  # Starts the event loop and executes 'main'"
   ]
  },
  {
   "cell_type": "markdown",
   "metadata": {},
   "source": [
    "Notes: \n",
    "\n",
    "Running `asyncio` code in a Jupyter Notebook requires a slightly different approach because Jupyter itself manages an event loop. Here's how you can adapt the code to run in a Jupyter Notebook:\n",
    "\n",
    "In a Jupyter Notebook, you typically don't need to manually get or manage the event loop. You can directly use `await` with your coroutine. Modify your run function as needed and then simply call it with `await` in a notebook cell."
   ]
  },
  {
   "cell_type": "markdown",
   "metadata": {},
   "source": [
    "## Coroutines"
   ]
  },
  {
   "cell_type": "code",
   "execution_count": null,
   "metadata": {},
   "outputs": [],
   "source": [
    "import asyncio\n",
    "\n",
    "async def fetch_data():\n",
    "    print(\"Start fetching\")\n",
    "    await asyncio.sleep(2)\n",
    "    print(\"Done fetching\")\n",
    "    return {'data': 1}\n",
    "\n",
    "async def main():\n",
    "    data = await fetch_data() # wait until data fetch is done\n",
    "    print(data)\n",
    "\n",
    "await main()"
   ]
  },
  {
   "cell_type": "markdown",
   "metadata": {},
   "source": [
    "## Tasks"
   ]
  },
  {
   "cell_type": "code",
   "execution_count": null,
   "metadata": {},
   "outputs": [],
   "source": [
    "import asyncio\n",
    "\n",
    "async def fetch_data():\n",
    "    print(\"Start fetching\")\n",
    "    await asyncio.sleep(2)\n",
    "    print(\"Done fetching\")\n",
    "    return {'data': 1}\n",
    "\n",
    "async def main():\n",
    "    task_fetch_data = asyncio.create_task(fetch_data()) # create task to execute at a later point\n",
    "    data = await task_fetch_data\n",
    "    print(data)\n",
    "\n",
    "await main()"
   ]
  },
  {
   "cell_type": "markdown",
   "metadata": {},
   "source": [
    "## Full Example"
   ]
  },
  {
   "cell_type": "code",
   "execution_count": null,
   "metadata": {},
   "outputs": [],
   "source": [
    "import asyncio\n",
    "\n",
    "# Simulating a network request\n",
    "async def fetch_from_remote(url):\n",
    "    print(f\"Fetching data from {url}\")\n",
    "    await asyncio.sleep(1)\n",
    "    if \"2\" in url: # simulate a network error with http://example.com/data2\n",
    "        raise Exception(\"Network Error\")\n",
    "    return f\"Data from {url}\"\n",
    "\n",
    "# Extended coroutine\n",
    "async def fetch_data():\n",
    "    urls = [\"http://example.com/data1\", \"http://example.com/data2\"]\n",
    "    results = []\n",
    "\n",
    "    print(\"Start fetching\")\n",
    "\n",
    "    for url in urls:\n",
    "        try:\n",
    "            # Fetching data from each URL\n",
    "            data = await fetch_from_remote(url)\n",
    "            results.append(data)\n",
    "        except Exception as e:\n",
    "            print(f\"Error fetching {url}: {e}\")\n",
    "            results.append(None)  # Handling the error by appending None\n",
    "\n",
    "    print(\"Done fetching\")\n",
    "    return results\n",
    "\n",
    "# Running the coroutine\n",
    "async def main():\n",
    "    fetched_data = await fetch_data()\n",
    "    print(f\"Fetched data: {fetched_data}\")\n",
    "\n",
    "await main()"
   ]
  }
 ],
 "metadata": {
  "kernelspec": {
   "display_name": "Python 3",
   "language": "python",
   "name": "python3"
  },
  "language_info": {
   "codemirror_mode": {
    "name": "ipython",
    "version": 3
   },
   "file_extension": ".py",
   "mimetype": "text/x-python",
   "name": "python",
   "nbconvert_exporter": "python",
   "pygments_lexer": "ipython3",
   "version": "3.10.12"
  }
 },
 "nbformat": 4,
 "nbformat_minor": 2
}
