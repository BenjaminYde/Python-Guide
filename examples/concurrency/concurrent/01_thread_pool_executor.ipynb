{
 "cells": [
  {
   "cell_type": "markdown",
   "metadata": {},
   "source": [
    "## Using ThreadPoolExecutor"
   ]
  },
  {
   "cell_type": "code",
   "execution_count": 7,
   "metadata": {},
   "outputs": [
    {
     "name": "stdout",
     "output_type": "stream",
     "text": [
      "Creating 2x coffee...\n",
      "Creating 3x toast...\n",
      "Created 2x coffee!\n",
      "Created 3x toast!\n",
      "Total time = 3.00 seconds\n"
     ]
    }
   ],
   "source": [
    "from concurrent.futures import ThreadPoolExecutor, wait\n",
    "import time\n",
    "\n",
    "def create_coffee(count: int):\n",
    "    print(f\"Creating {count}x coffee...\")\n",
    "    time.sleep(count)\n",
    "    print(f\"Created {count}x coffee!\")\n",
    "\n",
    "def create_toast(count: int):\n",
    "    print(f\"Creating {count}x toast...\")\n",
    "    time.sleep(count)\n",
    "    print(f\"Created {count}x toast!\")\n",
    "\n",
    "def run():\n",
    "    start_time = time.time()\n",
    "\n",
    "    with ThreadPoolExecutor() as executor:\n",
    "        coffee_future = executor.submit(create_coffee, 2)\n",
    "        toast_future = executor.submit(create_toast, 3)\n",
    "\n",
    "        # Wait for both futures to complete\n",
    "        #coffee_future.result()\n",
    "        #toast_future.result()\n",
    "        \n",
    "        futures = [coffee_future, toast_future]        \n",
    "        wait(futures)\n",
    "\n",
    "    end_time = time.time()\n",
    "    duration = end_time - start_time\n",
    "\n",
    "    print(f\"Total time = {duration:.2f} seconds\")\n",
    "\n",
    "run()\n"
   ]
  },
  {
   "cell_type": "markdown",
   "metadata": {},
   "source": [
    "## Example: Concurrently Downloading Website Content"
   ]
  },
  {
   "cell_type": "code",
   "execution_count": 8,
   "metadata": {},
   "outputs": [
    {
     "name": "stdout",
     "output_type": "stream",
     "text": [
      "Starting download of http://example.com/page1\n",
      "Starting download of http://example.com/page2\n",
      "Starting download of http://example.com/page3\n",
      "Download completed for http://example.com/page1: Content of http://example.com/page1\n",
      "Download completed for http://example.com/page2: Content of http://example.com/page2\n",
      "Download completed for http://example.com/page3: Content of http://example.com/page3\n"
     ]
    }
   ],
   "source": [
    "from concurrent.futures import ThreadPoolExecutor, as_completed\n",
    "import time\n",
    "import random\n",
    "\n",
    "def download_url(url: str) -> str:\n",
    "    print(f\"Starting download of {url}\")\n",
    "    time.sleep(random.randint(1,4))  # Simulate time taken to download\n",
    "    return f\"Content of {url}\"\n",
    "\n",
    "def run():\n",
    "    urls = [\"http://example.com/page1\", \"http://example.com/page2\", \"http://example.com/page3\"]\n",
    "\n",
    "    # Create a ThreadPoolExecutor\n",
    "    with ThreadPoolExecutor(max_workers=3) as executor:\n",
    "        # Submit tasks and get Future objects\n",
    "        futures_to_url = {executor.submit(download_url, url): url for url in urls}\n",
    "\n",
    "        # Process results as they become available\n",
    "        for future in as_completed(futures_to_url):\n",
    "            url = futures_to_url[future]\n",
    "            try:\n",
    "                data = future.result()\n",
    "                print(f\"Download completed for {url}: {data}\")\n",
    "            except Exception as exc:\n",
    "                print(f\"Error for {url}: {exc}\")\n",
    "\n",
    "run()"
   ]
  }
 ],
 "metadata": {
  "kernelspec": {
   "display_name": "Python 3",
   "language": "python",
   "name": "python3"
  },
  "language_info": {
   "codemirror_mode": {
    "name": "ipython",
    "version": 3
   },
   "file_extension": ".py",
   "mimetype": "text/x-python",
   "name": "python",
   "nbconvert_exporter": "python",
   "pygments_lexer": "ipython3",
   "version": "3.10.12"
  }
 },
 "nbformat": 4,
 "nbformat_minor": 2
}
