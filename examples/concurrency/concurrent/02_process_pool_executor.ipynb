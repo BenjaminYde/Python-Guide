{
 "cells": [
  {
   "cell_type": "markdown",
   "metadata": {},
   "source": [
    "## Using ProcessPoolExecutor"
   ]
  },
  {
   "cell_type": "code",
   "execution_count": 3,
   "metadata": {},
   "outputs": [
    {
     "name": "stdout",
     "output_type": "stream",
     "text": [
      "Creating 3x toast...Creating 2x coffee...\n",
      "\n",
      "Created 2x coffee!\n",
      "Created 3x toast!\n",
      "Total time = 3.08 seconds\n"
     ]
    }
   ],
   "source": [
    "from concurrent.futures import ProcessPoolExecutor, wait\n",
    "import time\n",
    "\n",
    "def create_coffee(count: int):\n",
    "    print(f\"Creating {count}x coffee...\")\n",
    "    time.sleep(count)\n",
    "    print(f\"Created {count}x coffee!\")\n",
    "\n",
    "def create_toast(count: int):\n",
    "    print(f\"Creating {count}x toast...\")\n",
    "    time.sleep(count)\n",
    "    print(f\"Created {count}x toast!\")\n",
    "\n",
    "def run():\n",
    "    start_time = time.time()\n",
    "\n",
    "    with ProcessPoolExecutor() as executor:\n",
    "        # create futures\n",
    "        coffee_future = executor.submit(create_coffee, 2)\n",
    "        toast_future = executor.submit(create_toast, 3)\n",
    "        futures = [coffee_future, toast_future]\n",
    "        \n",
    "        # Wait for both futures to complete\n",
    "        #coffee_future.result()\n",
    "        #toast_future.result()\n",
    "        \n",
    "        futures = [coffee_future, toast_future]        \n",
    "        wait(futures)\n",
    "\n",
    "    end_time = time.time()\n",
    "    duration = end_time - start_time\n",
    "\n",
    "    print(f\"Total time = {duration:.2f} seconds\")\n",
    "\n",
    "run()"
   ]
  }
 ],
 "metadata": {
  "kernelspec": {
   "display_name": "Python 3",
   "language": "python",
   "name": "python3"
  },
  "language_info": {
   "codemirror_mode": {
    "name": "ipython",
    "version": 3
   },
   "file_extension": ".py",
   "mimetype": "text/x-python",
   "name": "python",
   "nbconvert_exporter": "python",
   "pygments_lexer": "ipython3",
   "version": "3.10.12"
  }
 },
 "nbformat": 4,
 "nbformat_minor": 2
}
