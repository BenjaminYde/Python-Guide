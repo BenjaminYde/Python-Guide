{
 "cells": [
  {
   "cell_type": "code",
   "execution_count": null,
   "metadata": {},
   "outputs": [],
   "source": [
    "import concurrent.futures\n",
    "import time\n",
    "\n",
    "def create_coffee():\n",
    "    print(\"Creating coffee...\")\n",
    "    time.sleep(2)\n",
    "    print(\"Created coffee!\")\n",
    "\n",
    "def create_toast():\n",
    "    print(\"Creating toast...\")\n",
    "    time.sleep(3)\n",
    "    print(\"Created toast!\")\n",
    "\n",
    "def run():\n",
    "    start_time = time.time()\n",
    "\n",
    "    with concurrent.futures.ThreadPoolExecutor() as executor:\n",
    "        coffee_future = executor.submit(create_coffee)\n",
    "        toast_future = executor.submit(create_toast)\n",
    "\n",
    "        # Wait for both futures to complete\n",
    "        coffee_future.result()\n",
    "        toast_future.result()\n",
    "\n",
    "    end_time = time.time()\n",
    "    duration = end_time - start_time\n",
    "\n",
    "    print(f\"Total time = {duration:.2f} seconds\")\n",
    "\n",
    "run()\n"
   ]
  }
 ],
 "metadata": {
  "kernelspec": {
   "display_name": "Python 3",
   "language": "python",
   "name": "python3"
  },
  "language_info": {
   "codemirror_mode": {
    "name": "ipython",
    "version": 3
   },
   "file_extension": ".py",
   "mimetype": "text/x-python",
   "name": "python",
   "nbconvert_exporter": "python",
   "pygments_lexer": "ipython3",
   "version": "3.10.12"
  }
 },
 "nbformat": 4,
 "nbformat_minor": 2
}
