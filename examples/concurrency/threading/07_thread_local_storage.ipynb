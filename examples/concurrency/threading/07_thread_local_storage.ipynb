{
 "cells": [
  {
   "cell_type": "code",
   "execution_count": null,
   "metadata": {},
   "outputs": [],
   "source": [
    "import threading\n",
    "\n",
    "# Create a thread-local data object\n",
    "mydata = threading.local()\n",
    "\n",
    "def thread_function():\n",
    "    # Each thread will have its own 'mydata.value'\n",
    "    mydata.value = 0\n",
    "    for _ in range(100):\n",
    "        mydata.value += 1\n",
    "    print(f\"Thread {threading.current_thread().name} value: {mydata.value}\")\n",
    "\n",
    "def run():\n",
    "    # Create and start several threads\n",
    "    threads = [\n",
    "        threading.Thread(target=thread_function) \n",
    "        for _ in range(3)\n",
    "    ]\n",
    "    for thread in threads:\n",
    "        thread.start()\n",
    "    for thread in threads:\n",
    "        thread.join()\n",
    "\n",
    "run()"
   ]
  },
  {
   "cell_type": "markdown",
   "metadata": {},
   "source": [
    "#### Explanation\n",
    "\n",
    "In this example, each thread increments its own `mydata.value` independently. Despite `mydata` being a global object, its `value` attribute is specific to each thread."
   ]
  }
 ],
 "metadata": {
  "kernelspec": {
   "display_name": "Python 3",
   "language": "python",
   "name": "python3"
  },
  "language_info": {
   "codemirror_mode": {
    "name": "ipython",
    "version": 3
   },
   "file_extension": ".py",
   "mimetype": "text/x-python",
   "name": "python",
   "nbconvert_exporter": "python",
   "pygments_lexer": "ipython3",
   "version": "3.10.12"
  }
 },
 "nbformat": 4,
 "nbformat_minor": 2
}
