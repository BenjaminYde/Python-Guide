{
 "cells": [
  {
   "cell_type": "code",
   "execution_count": 46,
   "metadata": {},
   "outputs": [
    {
     "name": "stdout",
     "output_type": "stream",
     "text": [
      "Produced 0\n",
      "Consumed 0\n",
      "Produced 1\n",
      "Consumed 1\n",
      "Produced 2\n",
      "Consumed 2\n",
      "Produced 3\n",
      "Consumed 3\n",
      "Produced 4\n",
      "Consumed 4\n"
     ]
    }
   ],
   "source": [
    "import threading\n",
    "import queue\n",
    "import time\n",
    "\n",
    "q = queue.Queue()\n",
    "items_produced = 0\n",
    "items_comsumed = 0\n",
    "done_producing = False\n",
    "\n",
    "def producer():\n",
    "    global items_produced\n",
    "    global done_producing\n",
    "    for i in range(5):\n",
    "        q.put(i)\n",
    "        print(f\"Produced {i}\")\n",
    "        items_produced = items_produced + 1\n",
    "        time.sleep(1)\n",
    "    done_producing = True\n",
    "    \n",
    "def consumer():\n",
    "    # get vars\n",
    "    global done_producing\n",
    "    global items_produced\n",
    "    global items_comsumed\n",
    "    # loop always\n",
    "    while True:\n",
    "        # check if item\n",
    "        items_available =  items_produced - items_comsumed > 0\n",
    "        if items_available:\n",
    "            # get item\n",
    "            item = q.get(block=False) # avoid exceptions (= slow)\n",
    "            items_comsumed = items_comsumed + 1\n",
    "            q.task_done()\n",
    "            # print\n",
    "            print(f\"Consumed {item}\")\n",
    "        # stop when done    \n",
    "        if done_producing and items_produced == items_comsumed:\n",
    "            break\n",
    "            \n",
    "def run():\n",
    "    producer_thread = threading.Thread(target=producer)\n",
    "    consumer_thread = threading.Thread(target=consumer)\n",
    "\n",
    "    producer_thread.start()\n",
    "    consumer_thread.start()\n",
    "\n",
    "    producer_thread.join()  # Wait for producer to finish\n",
    "    q.join()                # Wait for all tasks to be done\n",
    "    consumer_thread.join()  # Wait for consumer to finish\n",
    "    \n",
    "run()"
   ]
  },
  {
   "cell_type": "markdown",
   "metadata": {},
   "source": [
    "The `queue.Queue` class is a thread-safe implementation of a multi-producer, multi-consumer queue, which is especially useful for thread communication and data exchange.\n",
    "\n",
    "**Usage**: Threads can safely put items to and get items from the queue without needing additional synchronization. The queue manages all the necessary locking internally."
   ]
  }
 ],
 "metadata": {
  "kernelspec": {
   "display_name": "Python 3",
   "language": "python",
   "name": "python3"
  },
  "language_info": {
   "codemirror_mode": {
    "name": "ipython",
    "version": 3
   },
   "file_extension": ".py",
   "mimetype": "text/x-python",
   "name": "python",
   "nbconvert_exporter": "python",
   "pygments_lexer": "ipython3",
   "version": "3.10.12"
  }
 },
 "nbformat": 4,
 "nbformat_minor": 2
}
