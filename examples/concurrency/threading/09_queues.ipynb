{
 "cells": [
  {
   "cell_type": "code",
   "execution_count": null,
   "metadata": {},
   "outputs": [],
   "source": [
    "import threading\n",
    "import queue\n",
    "import time\n",
    "\n",
    "q = queue.Queue()\n",
    "\n",
    "class State:\n",
    "    items_produced = 0 # only set by producer\n",
    "    items_comsumed = 0 # only set by consumer\n",
    "    done_producing = False # only set by producer\n",
    "\n",
    "state = State()\n",
    "\n",
    "def producer(state: State):\n",
    "    for i in range(5):\n",
    "        q.put(i)\n",
    "        print(f\"Produced {i}\")\n",
    "        state.items_produced = state.items_produced + 1\n",
    "        time.sleep(1)\n",
    "    state.done_producing = True\n",
    "    \n",
    "def consumer(state: State):\n",
    "    # loop always\n",
    "    while True:\n",
    "        # check if item\n",
    "        items_available =  state.items_produced - state.items_comsumed > 0\n",
    "        if items_available:\n",
    "            # get item\n",
    "            item = q.get(block=False) # avoid exceptions (= slow)\n",
    "            state.items_comsumed = state.items_comsumed + 1\n",
    "            q.task_done()\n",
    "            # print\n",
    "            print(f\"Consumed {item}\")\n",
    "        # stop when consumed all\n",
    "        if state.done_producing and state.items_produced == state.items_comsumed:\n",
    "            break\n",
    "            \n",
    "def run():\n",
    "    producer_thread = threading.Thread(target=producer, args=[state])\n",
    "    consumer_thread = threading.Thread(target=consumer, args=[state])\n",
    "\n",
    "    producer_thread.start()\n",
    "    consumer_thread.start()\n",
    "\n",
    "    producer_thread.join()  # Wait for producer to finish\n",
    "    q.join()                # Wait for all tasks to be done\n",
    "    consumer_thread.join()  # Wait for consumer to finish\n",
    "    \n",
    "run()"
   ]
  },
  {
   "cell_type": "markdown",
   "metadata": {},
   "source": [
    "The `queue.Queue` class is a thread-safe implementation of a multi-producer, multi-consumer queue, which is especially useful for thread communication and data exchange.\n",
    "\n",
    "**Usage**: Threads can safely put items to and get items from the queue without needing additional synchronization. The queue manages all the necessary locking internally."
   ]
  }
 ],
 "metadata": {
  "kernelspec": {
   "display_name": "Python 3",
   "language": "python",
   "name": "python3"
  },
  "language_info": {
   "codemirror_mode": {
    "name": "ipython",
    "version": 3
   },
   "file_extension": ".py",
   "mimetype": "text/x-python",
   "name": "python",
   "nbconvert_exporter": "python",
   "pygments_lexer": "ipython3",
   "version": "3.10.12"
  }
 },
 "nbformat": 4,
 "nbformat_minor": 2
}
