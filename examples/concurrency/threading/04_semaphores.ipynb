{
 "cells": [
  {
   "cell_type": "markdown",
   "metadata": {},
   "source": [
    "## Using Semaphores"
   ]
  },
  {
   "cell_type": "code",
   "execution_count": null,
   "metadata": {},
   "outputs": [],
   "source": [
    "import threading\n",
    "import time\n",
    "\n",
    "# Initialize a semaphore allowing 3 concurrent accesses\n",
    "semaphore = threading.Semaphore(3)\n",
    "\n",
    "def access_resource(i):\n",
    "    print(f\"Thread {i} is waiting to access the resource\")\n",
    "    with semaphore:\n",
    "        print(f\"Resource accessed by Thread {i}\")\n",
    "        time.sleep(1) # Simulate resource usage\n",
    "    print(f\"Thread {i} is releasing the resource\")\n",
    "\n",
    "threads = [\n",
    "    threading.Thread(target=access_resource, args=(i,)) \n",
    "    for i in range(5)\n",
    "]\n",
    "\n",
    "for thread in threads:\n",
    "    thread.start()\n",
    "for thread in threads:\n",
    "    thread.join()"
   ]
  }
 ],
 "metadata": {
  "kernelspec": {
   "display_name": "Python 3",
   "language": "python",
   "name": "python3"
  },
  "language_info": {
   "codemirror_mode": {
    "name": "ipython",
    "version": 3
   },
   "file_extension": ".py",
   "mimetype": "text/x-python",
   "name": "python",
   "nbconvert_exporter": "python",
   "pygments_lexer": "ipython3",
   "version": "3.10.12"
  }
 },
 "nbformat": 4,
 "nbformat_minor": 2
}
