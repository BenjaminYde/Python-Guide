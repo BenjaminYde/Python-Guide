{
 "cells": [
  {
   "cell_type": "markdown",
   "metadata": {},
   "source": [
    "## Using Events"
   ]
  },
  {
   "cell_type": "code",
   "execution_count": null,
   "metadata": {},
   "outputs": [],
   "source": [
    "import threading\n",
    "import time\n",
    "\n",
    "event = threading.Event()\n",
    "\n",
    "def wait_for_event():\n",
    "    print(\"Thread waiting for event\")\n",
    "    event.wait()\n",
    "    print(\"Event has been signaled, continuing execution\")\n",
    "\n",
    "def signal_event():\n",
    "    print(\"Thread signaling the event in 3 sec...\")\n",
    "    time.sleep(3)\n",
    "    event.set()\n",
    "\n",
    "def run():\n",
    "    print(\"Main Thread: Start\")\n",
    "\n",
    "    waiter_thread = threading.Thread(target=wait_for_event)\n",
    "    signaler_thread = threading.Thread(target=signal_event)\n",
    "\n",
    "    waiter_thread.start()\n",
    "    signaler_thread.start()\n",
    "\n",
    "    waiter_thread.join()\n",
    "    signaler_thread.join()\n",
    "\n",
    "    print(\"Main Thread: Finished\")\n",
    "    \n",
    "run()"
   ]
  }
 ],
 "metadata": {
  "kernelspec": {
   "display_name": "Python 3",
   "language": "python",
   "name": "python3"
  },
  "language_info": {
   "codemirror_mode": {
    "name": "ipython",
    "version": 3
   },
   "file_extension": ".py",
   "mimetype": "text/x-python",
   "name": "python",
   "nbconvert_exporter": "python",
   "pygments_lexer": "ipython3",
   "version": "3.10.12"
  }
 },
 "nbformat": 4,
 "nbformat_minor": 2
}
