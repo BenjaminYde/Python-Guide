{
 "cells": [
  {
   "cell_type": "code",
   "execution_count": null,
   "metadata": {},
   "outputs": [],
   "source": [
    "import threading\n",
    "import time\n",
    "import random\n",
    "\n",
    "# Define the number of threads\n",
    "num_threads = 4\n",
    "\n",
    "# Create a barrier for num_threads\n",
    "barrier = threading.Barrier(num_threads)\n",
    "\n",
    "def process_data(thread_id):\n",
    "    # Phase 1: Independent processing\n",
    "    time.sleep(random.randint(1, 3))  # Simulate some work\n",
    "    print(f\"Thread {thread_id} completed phase 1\")\n",
    "\n",
    "    # Wait at the barrier for all threads to complete phase 1\n",
    "    try:\n",
    "        barrier.wait()\n",
    "    except threading.BrokenBarrierError:\n",
    "        print(f\"Barrier broken: Thread {thread_id}\")\n",
    "\n",
    "    # Phase 2: Processing after synchronization\n",
    "    time.sleep(random.randint(1, 3))  # Simulate some more work\n",
    "    print(f\"Thread {thread_id} completed phase 2\")\n",
    "\n",
    "def run():\n",
    "    # Create and start the threads\n",
    "    threads = [\n",
    "        threading.Thread(target=process_data, args=(i,)) \n",
    "        for i in range(num_threads)\n",
    "    ]\n",
    "\n",
    "    for thread in threads:\n",
    "        thread.start()\n",
    "\n",
    "    for thread in threads:\n",
    "        thread.join()\n",
    "\n",
    "    print(\"All threads have completed their tasks\")\n",
    "\n",
    "run()"
   ]
  }
 ],
 "metadata": {
  "kernelspec": {
   "display_name": "Python 3",
   "language": "python",
   "name": "python3"
  },
  "language_info": {
   "codemirror_mode": {
    "name": "ipython",
    "version": 3
   },
   "file_extension": ".py",
   "mimetype": "text/x-python",
   "name": "python",
   "nbconvert_exporter": "python",
   "pygments_lexer": "ipython3",
   "version": "3.10.12"
  }
 },
 "nbformat": 4,
 "nbformat_minor": 2
}
