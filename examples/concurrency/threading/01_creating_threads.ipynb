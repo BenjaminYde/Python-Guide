{
 "cells": [
  {
   "cell_type": "markdown",
   "metadata": {},
   "source": [
    "## Creating a thread"
   ]
  },
  {
   "cell_type": "code",
   "execution_count": null,
   "metadata": {},
   "outputs": [],
   "source": [
    "import threading\n",
    "\n",
    "def print_numbers():\n",
    "    for i in range(1, 6):\n",
    "        print(i)\n",
    "\n",
    "# Creating a thread\n",
    "thread = threading.Thread(target=print_numbers)\n",
    "\n",
    "# Starting the thread\n",
    "thread.start()\n",
    "\n",
    "# Wait for the thread to complete\n",
    "thread.join()\n",
    "\n",
    "print(\"Thread finished execution.\")"
   ]
  },
  {
   "cell_type": "markdown",
   "metadata": {},
   "source": [
    "## Thread Args"
   ]
  },
  {
   "cell_type": "code",
   "execution_count": null,
   "metadata": {},
   "outputs": [],
   "source": [
    "import threading\n",
    "\n",
    "def process_data(data: str):\n",
    "    # Function logic here\n",
    "    print(f\"Processing {data}\")\n",
    "\n",
    "# Data to be processed\n",
    "my_data = \"example_data\"\n",
    "\n",
    "# Creating a thread and passing arguments to the function\n",
    "thread = threading.Thread(target=process_data, args=(my_data,))\n",
    "thread.start()\n",
    "thread.join()"
   ]
  },
  {
   "cell_type": "markdown",
   "metadata": {},
   "source": [
    "## Creating Coffee"
   ]
  },
  {
   "cell_type": "code",
   "execution_count": null,
   "metadata": {},
   "outputs": [],
   "source": [
    "import threading\n",
    "import time\n",
    "\n",
    "def create_coffee():\n",
    "    print(\"Creating coffee...\")\n",
    "    time.sleep(2)\n",
    "    print(\"Created coffee!\")\n",
    "\n",
    "def create_toast():\n",
    "    print(\"Creating toast...\")\n",
    "    time.sleep(3)\n",
    "    print(\"Created toast!\")\n",
    "\n",
    "def run():\n",
    "    start_time = time.time()\n",
    "\n",
    "    # Create threads for coffee and toast\n",
    "    coffee_thread = threading.Thread(target=create_coffee)\n",
    "    toast_thread = threading.Thread(target=create_toast)\n",
    "\n",
    "    # Start the threads\n",
    "    coffee_thread.start()\n",
    "    toast_thread.start()\n",
    "\n",
    "    # Wait for both threads to complete\n",
    "    coffee_thread.join()\n",
    "    toast_thread.join()\n",
    "\n",
    "    end_time = time.time()\n",
    "    duration = end_time - start_time\n",
    "    print(f\"Total time = {duration:.2f} seconds\")\n",
    "\n",
    "run()"
   ]
  },
  {
   "cell_type": "markdown",
   "metadata": {},
   "source": [
    "## Single Thread vs Multi Thread Speed"
   ]
  },
  {
   "cell_type": "code",
   "execution_count": null,
   "metadata": {},
   "outputs": [],
   "source": [
    "import threading\n",
    "import time\n",
    "\n",
    "def sum_of_squares(n):\n",
    "    sum([i*i for i in range(n*10)])\n",
    "\n",
    "def single_thread():\n",
    "    start = time.time()\n",
    "    sum_of_squares(10**7)\n",
    "    end = time.time()\n",
    "    print(f\"Single thread took: {end - start} seconds\")\n",
    "\n",
    "def multi_thread():\n",
    "    threads = []\n",
    "    start = time.time()\n",
    "\n",
    "    for _ in range(4):  # creating 4 threads\n",
    "        thread = threading.Thread(target=sum_of_squares, args=(10**7//4,))\n",
    "        thread.start()\n",
    "        threads.append(thread)\n",
    "\n",
    "    for thread in threads:\n",
    "        thread.join()\n",
    "\n",
    "    end = time.time()\n",
    "    print(f\"Multi thread took: {end - start} seconds\")\n",
    "\n",
    "def run():\n",
    "    single_thread()\n",
    "    multi_thread()\n",
    "\n",
    "run()"
   ]
  }
 ],
 "metadata": {
  "kernelspec": {
   "display_name": "Python 3",
   "language": "python",
   "name": "python3"
  },
  "language_info": {
   "codemirror_mode": {
    "name": "ipython",
    "version": 3
   },
   "file_extension": ".py",
   "mimetype": "text/x-python",
   "name": "python",
   "nbconvert_exporter": "python",
   "pygments_lexer": "ipython3",
   "version": "3.10.12"
  }
 },
 "nbformat": 4,
 "nbformat_minor": 2
}
