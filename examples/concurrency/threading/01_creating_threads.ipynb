{
 "cells": [
  {
   "cell_type": "markdown",
   "metadata": {},
   "source": [
    "## Creating a thread"
   ]
  },
  {
   "cell_type": "code",
   "execution_count": null,
   "metadata": {},
   "outputs": [],
   "source": [
    "import threading\n",
    "\n",
    "def print_numbers():\n",
    "    for i in range(1, 6):\n",
    "        print(i)\n",
    "\n",
    "# Creating a thread\n",
    "thread = threading.Thread(target=print_numbers)\n",
    "\n",
    "# Starting the thread\n",
    "thread.start()\n",
    "\n",
    "# Wait for the thread to complete\n",
    "thread.join()\n",
    "\n",
    "print(\"Thread finished execution.\")"
   ]
  },
  {
   "cell_type": "markdown",
   "metadata": {},
   "source": [
    "## Thread Args"
   ]
  },
  {
   "cell_type": "code",
   "execution_count": null,
   "metadata": {},
   "outputs": [],
   "source": [
    "import threading\n",
    "\n",
    "def process_data(data: str):\n",
    "    # Function logic here\n",
    "    print(f\"Processing {data}\")\n",
    "\n",
    "# Data to be processed\n",
    "my_data = \"example_data\"\n",
    "\n",
    "# Creating a thread and passing arguments to the function\n",
    "thread = threading.Thread(target=process_data, args=(my_data,))\n",
    "thread.start()\n",
    "thread.join()"
   ]
  },
  {
   "cell_type": "markdown",
   "metadata": {},
   "source": [
    "## Creating Coffee"
   ]
  },
  {
   "cell_type": "code",
   "execution_count": null,
   "metadata": {},
   "outputs": [],
   "source": [
    "import threading\n",
    "import time\n",
    "\n",
    "def create_coffee():\n",
    "    print(\"Creating coffee...\")\n",
    "    time.sleep(2)\n",
    "    print(\"Created coffee!\")\n",
    "\n",
    "def create_toast():\n",
    "    print(\"Creating toast...\")\n",
    "    time.sleep(3)\n",
    "    print(\"Created toast!\")\n",
    "\n",
    "def run():\n",
    "    start_time = time.time()\n",
    "\n",
    "    # Create threads for coffee and toast\n",
    "    coffee_thread = threading.Thread(target=create_coffee)\n",
    "    toast_thread = threading.Thread(target=create_toast)\n",
    "\n",
    "    # Start the threads\n",
    "    coffee_thread.start()\n",
    "    toast_thread.start()\n",
    "\n",
    "    # Wait for both threads to complete\n",
    "    coffee_thread.join()\n",
    "    toast_thread.join()\n",
    "\n",
    "    end_time = time.time()\n",
    "    duration = end_time - start_time\n",
    "    print(f\"Total time = {duration:.2f} seconds\")\n",
    "\n",
    "run()"
   ]
  },
  {
   "cell_type": "markdown",
   "metadata": {},
   "source": [
    "## Single Thread vs Multi Thread Speed"
   ]
  },
  {
   "cell_type": "code",
   "execution_count": null,
   "metadata": {},
   "outputs": [],
   "source": [
    "import threading\n",
    "import time\n",
    "\n",
    "def sum_of_squares(n):\n",
    "    sum([i*i for i in range(n*10)])\n",
    "\n",
    "def single_thread():\n",
    "    start = time.time()\n",
    "    sum_of_squares(10**7)\n",
    "    end = time.time()\n",
    "    print(f\"Single thread took: {end - start} seconds\")\n",
    "\n",
    "def multi_thread():\n",
    "    threads = []\n",
    "    start = time.time()\n",
    "\n",
    "    for _ in range(4):  # creating 4 threads\n",
    "        thread = threading.Thread(target=sum_of_squares, args=(10**7//4,))\n",
    "        thread.start()\n",
    "        threads.append(thread)\n",
    "\n",
    "    for thread in threads:\n",
    "        thread.join()\n",
    "\n",
    "    end = time.time()\n",
    "    print(f\"Multi thread took: {end - start} seconds\")\n",
    "\n",
    "def run():\n",
    "    single_thread()\n",
    "    multi_thread()\n",
    "\n",
    "run()"
   ]
  },
  {
   "cell_type": "markdown",
   "metadata": {},
   "source": [
    "## Example: Concurrent File Downloads\n",
    "\n",
    "Let's consider a more practical example: downloading multiple files from the internet. In this scenario, threads can be used to download different files simultaneously, which is a typical I/O-bound operation. Each thread can handle the download of one file, and since they don't need to share data, we avoid the issues related to locks and race conditions."
   ]
  },
  {
   "cell_type": "code",
   "execution_count": null,
   "metadata": {},
   "outputs": [],
   "source": [
    "import threading\n",
    "import requests\n",
    "import time\n",
    "import random\n",
    "\n",
    "def download_file(file_url, file_number):\n",
    "    time.sleep(random.randint(1,3))\n",
    "    response = requests.get(file_url)\n",
    "    with open(f\"file_{file_number}.txt\", 'wb') as file:\n",
    "        file.write(response.content)\n",
    "    print(f\"Finished downloading file {file_number}\")\n",
    "\n",
    "start_time = time.time()\n",
    "\n",
    "urls = [\n",
    "    'http://example.com/file1',\n",
    "    'http://example.com/file2',\n",
    "    'http://example.com/file3',\n",
    "    'http://example.com/file4',\n",
    "    'http://example.com/file5'\n",
    "]\n",
    "\n",
    "threads = []\n",
    "for i, url in enumerate(urls):\n",
    "    thread = threading.Thread(target=download_file, args=(url, i+1))\n",
    "    threads.append(thread)\n",
    "    thread.start()\n",
    "\n",
    "for thread in threads:\n",
    "    thread.join()\n",
    "\n",
    "end_time = time.time()\n",
    "print(f\"Downloaded all files in {end_time - start_time} seconds\")"
   ]
  }
 ],
 "metadata": {
  "kernelspec": {
   "display_name": "Python 3",
   "language": "python",
   "name": "python3"
  },
  "language_info": {
   "codemirror_mode": {
    "name": "ipython",
    "version": 3
   },
   "file_extension": ".py",
   "mimetype": "text/x-python",
   "name": "python",
   "nbconvert_exporter": "python",
   "pygments_lexer": "ipython3",
   "version": "3.10.12"
  }
 },
 "nbformat": 4,
 "nbformat_minor": 2
}
