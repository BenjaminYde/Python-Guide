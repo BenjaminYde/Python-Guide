{
 "cells": [
  {
   "cell_type": "markdown",
   "metadata": {},
   "source": [
    "## Example Demonstrating Race Condition\n",
    "\n",
    "In this code, without locks, you might not always see the final counter value as 5. This is because the threads are likely to read the same value of counter before any of them has had a chance to increment and update it."
   ]
  },
  {
   "cell_type": "code",
   "execution_count": null,
   "metadata": {},
   "outputs": [],
   "source": [
    "import threading\n",
    "import time\n",
    "\n",
    "# Shared resource\n",
    "counter = 0\n",
    "\n",
    "def increment_counter():\n",
    "    global counter\n",
    "    temp = counter  # Read the current value of counter\n",
    "    time.sleep(0.5)  # Simulate some processing time\n",
    "    counter = temp + 1  # Increment and write back to counter\n",
    "    print(f\"Intermediate counter value: {counter}\")\n",
    "\n",
    "threads = []\n",
    "for i in range(5):\n",
    "    thread = threading.Thread(target=increment_counter)\n",
    "    threads.append(thread)\n",
    "    thread.start()\n",
    "\n",
    "for thread in threads:\n",
    "    thread.join()\n",
    "\n",
    "print(f\"Final counter value: {counter}\")"
   ]
  },
  {
   "cell_type": "markdown",
   "metadata": {},
   "source": [
    "## Example Using Lock to Prevent Race Condition\n",
    "\n",
    "Now with the lock, you will consistently see the final counter value as 5, demonstrating that the lock prevents simultaneous access to the shared resource (counter), thereby avoiding the race condition."
   ]
  },
  {
   "cell_type": "code",
   "execution_count": null,
   "metadata": {},
   "outputs": [],
   "source": [
    "import threading\n",
    "import time\n",
    "\n",
    "# Shared resource\n",
    "counter = 0\n",
    "lock = threading.Lock()\n",
    "\n",
    "def increment_counter():\n",
    "    global counter\n",
    "    with lock:  # Acquiring the lock\n",
    "        temp = counter\n",
    "        time.sleep(0.5)  # Simulate some processing time\n",
    "        counter = temp + 1\n",
    "        print(f\"Intermediate counter value: {counter}\")\n",
    "\n",
    "threads = []\n",
    "for i in range(5):\n",
    "    thread = threading.Thread(target=increment_counter)\n",
    "    threads.append(thread)\n",
    "    thread.start()\n",
    "\n",
    "for thread in threads:\n",
    "    thread.join()\n",
    "\n",
    "print(f\"Final counter value: {counter}\")"
   ]
  },
  {
   "cell_type": "markdown",
   "metadata": {},
   "source": [
    "## Example: Concurrent File Downloads\n",
    "\n",
    "Let's consider a more practical example: downloading multiple files from the internet. In this scenario, threads can be used to download different files simultaneously, which is a typical I/O-bound operation. Each thread can handle the download of one file, and since they don't need to share data, we avoid the issues related to locks and race conditions."
   ]
  },
  {
   "cell_type": "code",
   "execution_count": 1,
   "metadata": {},
   "outputs": [
    {
     "name": "stdout",
     "output_type": "stream",
     "text": [
      "Finished downloading file 1\n",
      "Finished downloading file 5\n",
      "Finished downloading file 2\n",
      "Finished downloading file 3\n",
      "Finished downloading file 4\n",
      "Downloaded all files in 3.2196388244628906 seconds\n"
     ]
    }
   ],
   "source": [
    "import threading\n",
    "import requests\n",
    "import time\n",
    "import random\n",
    "\n",
    "def download_file(file_url, file_number):\n",
    "    time.sleep(random.randint(1,3))\n",
    "    response = requests.get(file_url)\n",
    "    with open(f\"file_{file_number}.txt\", 'wb') as file:\n",
    "        file.write(response.content)\n",
    "    print(f\"Finished downloading file {file_number}\")\n",
    "\n",
    "start_time = time.time()\n",
    "\n",
    "urls = [\n",
    "    'http://example.com/file1',\n",
    "    'http://example.com/file2',\n",
    "    'http://example.com/file3',\n",
    "    'http://example.com/file4',\n",
    "    'http://example.com/file5'\n",
    "]\n",
    "\n",
    "threads = []\n",
    "for i, url in enumerate(urls):\n",
    "    thread = threading.Thread(target=download_file, args=(url, i+1))\n",
    "    threads.append(thread)\n",
    "    thread.start()\n",
    "\n",
    "for thread in threads:\n",
    "    thread.join()\n",
    "\n",
    "end_time = time.time()\n",
    "print(f\"Downloaded all files in {end_time - start_time} seconds\")"
   ]
  }
 ],
 "metadata": {
  "kernelspec": {
   "display_name": "Python 3",
   "language": "python",
   "name": "python3"
  },
  "language_info": {
   "codemirror_mode": {
    "name": "ipython",
    "version": 3
   },
   "file_extension": ".py",
   "mimetype": "text/x-python",
   "name": "python",
   "nbconvert_exporter": "python",
   "pygments_lexer": "ipython3",
   "version": "3.10.12"
  }
 },
 "nbformat": 4,
 "nbformat_minor": 2
}
