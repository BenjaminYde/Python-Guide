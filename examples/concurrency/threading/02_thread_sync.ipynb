{
 "cells": [
  {
   "cell_type": "markdown",
   "metadata": {},
   "source": [
    "## Example Demonstrating Race Condition\n",
    "\n",
    "In this code, without locks, you might not always see the final counter value as 5. This is because the threads are likely to read the same value of counter before any of them has had a chance to increment and update it."
   ]
  },
  {
   "cell_type": "code",
   "execution_count": null,
   "metadata": {},
   "outputs": [],
   "source": [
    "import threading\n",
    "import time\n",
    "\n",
    "# Shared resource\n",
    "counter = 0\n",
    "\n",
    "def increment_counter():\n",
    "    global counter\n",
    "    temp = counter  # Read the current value of counter\n",
    "    time.sleep(0.5)  # Simulate some processing time\n",
    "    counter = temp + 1  # Increment and write back to counter\n",
    "    print(f\"Intermediate counter value: {counter}\")\n",
    "\n",
    "threads = []\n",
    "for i in range(5):\n",
    "    thread = threading.Thread(target=increment_counter)\n",
    "    threads.append(thread)\n",
    "    thread.start()\n",
    "\n",
    "for thread in threads:\n",
    "    thread.join()\n",
    "\n",
    "print(f\"Final counter value: {counter}\")"
   ]
  },
  {
   "cell_type": "markdown",
   "metadata": {},
   "source": [
    "## Example Using Lock to Prevent Race Condition\n",
    "\n",
    "Now with the lock, you will consistently see the final counter value as 5, demonstrating that the lock prevents simultaneous access to the shared resource (counter), thereby avoiding the race condition."
   ]
  },
  {
   "cell_type": "code",
   "execution_count": null,
   "metadata": {},
   "outputs": [],
   "source": [
    "import threading\n",
    "import time\n",
    "\n",
    "# Shared resource\n",
    "counter = 0\n",
    "lock = threading.Lock()\n",
    "\n",
    "def increment_counter():\n",
    "    global counter\n",
    "    with lock:  # Acquiring the lock\n",
    "        temp = counter\n",
    "        time.sleep(0.5)  # Simulate some processing time\n",
    "        counter = temp + 1\n",
    "        print(f\"Intermediate counter value: {counter}\")\n",
    "\n",
    "threads = []\n",
    "for i in range(5):\n",
    "    thread = threading.Thread(target=increment_counter)\n",
    "    threads.append(thread)\n",
    "    thread.start()\n",
    "\n",
    "for thread in threads:\n",
    "    thread.join()\n",
    "\n",
    "print(f\"Final counter value: {counter}\")"
   ]
  }
 ],
 "metadata": {
  "kernelspec": {
   "display_name": "Python 3",
   "language": "python",
   "name": "python3"
  },
  "language_info": {
   "codemirror_mode": {
    "name": "ipython",
    "version": 3
   },
   "file_extension": ".py",
   "mimetype": "text/x-python",
   "name": "python",
   "nbconvert_exporter": "python",
   "pygments_lexer": "ipython3",
   "version": "3.10.12"
  }
 },
 "nbformat": 4,
 "nbformat_minor": 2
}
