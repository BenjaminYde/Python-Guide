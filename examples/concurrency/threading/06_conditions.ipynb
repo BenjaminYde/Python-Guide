{
 "cells": [
  {
   "cell_type": "code",
   "execution_count": null,
   "metadata": {},
   "outputs": [],
   "source": [
    "import threading\n",
    "\n",
    "condition = threading.Condition()\n",
    "item_available = False\n",
    "\n",
    "def consumer():\n",
    "    with condition:\n",
    "        if not item_available:\n",
    "            print(\"Consumer waiting for item\")\n",
    "            condition.wait()\n",
    "        print(\"Consumer consumed the item\")\n",
    "\n",
    "def producer():\n",
    "    global item_available\n",
    "    with condition:\n",
    "        print(\"Producer produced an item\")\n",
    "        item_available = True\n",
    "        condition.notify()\n",
    "\n",
    "def run():\n",
    "    producer_thread = threading.Thread(target=producer)\n",
    "    consumer_thread = threading.Thread(target=consumer)\n",
    "\n",
    "    consumer_thread.start()\n",
    "    producer_thread.start()\n",
    "\n",
    "    producer_thread.join()\n",
    "    consumer_thread.join()\n",
    "\n",
    "run()"
   ]
  },
  {
   "cell_type": "markdown",
   "metadata": {},
   "source": [
    "#### Explanation\n",
    "\n",
    "1. **Initial Check**: When the consumer() function is called, it first acquires the condition lock (because of the with condition: statement).\n",
    "\n",
    "2. **Waiting for the Condition**:\n",
    "    - The `if not item_available`: check is used to determine if the item is available for consumption.\n",
    "    - If `item_available` is `False` (meaning the item is not available), the consumer calls condition.wait(). This does two things:\n",
    "      - Releases the lock temporarily. This allows other threads (like the producer) to acquire the lock and change the state (i.e., produce an item).\n",
    "      - Blocks (waits) until `condition.notify()` or `condition.notify_all()` is called by another thread (the producer in this case).\n",
    "  \n",
    "3. **Resuming After Notification**:\n",
    "   - Once the producer calls `condition.notify()`, the consumer is awakened (unblocked) and re-acquires the lock.\n",
    "   - After re-acquiring the lock, it proceeds to the next line and completes its execution."
   ]
  }
 ],
 "metadata": {
  "kernelspec": {
   "display_name": "Python 3",
   "language": "python",
   "name": "python3"
  },
  "language_info": {
   "codemirror_mode": {
    "name": "ipython",
    "version": 3
   },
   "file_extension": ".py",
   "mimetype": "text/x-python",
   "name": "python",
   "nbconvert_exporter": "python",
   "pygments_lexer": "ipython3",
   "version": "3.10.12"
  }
 },
 "nbformat": 4,
 "nbformat_minor": 2
}
