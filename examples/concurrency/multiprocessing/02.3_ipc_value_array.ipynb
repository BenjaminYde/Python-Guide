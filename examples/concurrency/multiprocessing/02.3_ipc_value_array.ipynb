{
 "cells": [
  {
   "cell_type": "markdown",
   "metadata": {},
   "source": [
    "## Using Value and Array"
   ]
  },
  {
   "cell_type": "code",
   "execution_count": 2,
   "metadata": {},
   "outputs": [
    {
     "name": "stdout",
     "output_type": "stream",
     "text": [
      "Shared Value: 4\n",
      "Shared Array: [4, 5, 6, 7, 8]\n"
     ]
    }
   ],
   "source": [
    "from multiprocessing import Process, Value, Array\n",
    "\n",
    "def update_shared_value(shared_value, shared_array):\n",
    "    # Increment the shared value and each element of the shared array\n",
    "    shared_value.value += 1\n",
    "    for i in range(len(shared_array)):\n",
    "        shared_array[i] += 1\n",
    "\n",
    "def run():\n",
    "    # Create a shared integer with initial value 0\n",
    "    shared_value = Value('i', 0)\n",
    "\n",
    "    # Create a shared array of integers initialized with values 0 to 4\n",
    "    shared_array = Array('i', range(5))\n",
    "\n",
    "    # Create and start 4 processes\n",
    "    # Each process will update the shared value and array\n",
    "    processes = [Process(target=update_shared_value, args=(shared_value, shared_array)) for _ in range(4)]\n",
    "    for p in processes:\n",
    "        p.start()\n",
    "\n",
    "    # Wait for all processes to complete\n",
    "    for p in processes:\n",
    "        p.join()\n",
    "\n",
    "    # Print the final value of the shared integer and array\n",
    "    print(f\"Shared Value: {shared_value.value}\")\n",
    "    print(f\"Shared Array: {list(shared_array)}\")\n",
    "\n",
    "run()"
   ]
  },
  {
   "cell_type": "markdown",
   "metadata": {},
   "source": [
    "### Explanation:\n",
    "\n",
    "**Shared Value and Array**: We use Value to create a shared integer and Array to create a shared array. Both are initialized at the start of the run function. Value('i', 0) creates an integer with the initial value of 0, and Array('i', range(5)) creates an array of integers initialized with values from 0 to 4.\n",
    "\n",
    "**Multiprocessing**: We spawn 4 processes, each executing the update_shared_value function. This function increments the shared integer and each element of the shared array by 1.\n",
    "\n",
    "**Concurrent Updates**: As each of the 4 processes performs the increment operation, the final value of the shared integer should be 4 (as it's incremented once in each process), and each element of the array should be incremented by 4.\n",
    "\n",
    "**Final Output**: After all processes join (complete), the main process prints the final values of the shared integer and array."
   ]
  }
 ],
 "metadata": {
  "kernelspec": {
   "display_name": "Python 3",
   "language": "python",
   "name": "python3"
  },
  "language_info": {
   "codemirror_mode": {
    "name": "ipython",
    "version": 3
   },
   "file_extension": ".py",
   "mimetype": "text/x-python",
   "name": "python",
   "nbconvert_exporter": "python",
   "pygments_lexer": "ipython3",
   "version": "3.10.12"
  }
 },
 "nbformat": 4,
 "nbformat_minor": 2
}
