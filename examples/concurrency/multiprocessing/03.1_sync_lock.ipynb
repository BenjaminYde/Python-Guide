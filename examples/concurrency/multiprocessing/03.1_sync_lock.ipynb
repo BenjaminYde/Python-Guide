{
 "cells": [
  {
   "cell_type": "markdown",
   "metadata": {},
   "source": [
    "## Using Lock"
   ]
  },
  {
   "cell_type": "code",
   "execution_count": 1,
   "metadata": {},
   "outputs": [
    {
     "name": "stdout",
     "output_type": "stream",
     "text": [
      "Final counter value: 500\n"
     ]
    }
   ],
   "source": [
    "from multiprocessing import Lock, Value, Process\n",
    "import time\n",
    "\n",
    "def worker(shared_counter: int, lock: Lock):\n",
    "    for _ in range(100):\n",
    "        time.sleep(0.01)  # Simulate work by sleeping for 10ms\n",
    "        with lock:\n",
    "            # Critical section: only one process can execute this block at a time\n",
    "            shared_counter.value += 1\n",
    "\n",
    "def run():\n",
    "    # Shared resource (counter)\n",
    "    shared_counter = Value('i', 0)  # 'i' indicates an integer\n",
    "\n",
    "    # Lock to synchronize access to the shared resource\n",
    "    lock = Lock()\n",
    "\n",
    "    # Creating multiple worker processes\n",
    "    processes = [Process(target=worker, args=(shared_counter, lock)) for _ in range(5)]\n",
    "\n",
    "    # Start the processes\n",
    "    for p in processes:\n",
    "        p.start()\n",
    "\n",
    "    # Wait for all processes to complete\n",
    "    for p in processes:\n",
    "        p.join()\n",
    "\n",
    "    # Print the final value of the shared counter\n",
    "    print(f\"Final counter value: {shared_counter.value}\")\n",
    "\n",
    "run()\n"
   ]
  }
 ],
 "metadata": {
  "kernelspec": {
   "display_name": "Python 3",
   "language": "python",
   "name": "python3"
  },
  "language_info": {
   "codemirror_mode": {
    "name": "ipython",
    "version": 3
   },
   "file_extension": ".py",
   "mimetype": "text/x-python",
   "name": "python",
   "nbconvert_exporter": "python",
   "pygments_lexer": "ipython3",
   "version": "3.10.12"
  }
 },
 "nbformat": 4,
 "nbformat_minor": 2
}
