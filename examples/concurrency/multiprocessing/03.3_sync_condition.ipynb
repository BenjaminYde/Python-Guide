{
 "cells": [
  {
   "cell_type": "markdown",
   "metadata": {},
   "source": [
    "## Using Condition"
   ]
  },
  {
   "cell_type": "code",
   "execution_count": 1,
   "metadata": {},
   "outputs": [
    {
     "name": "stderr",
     "output_type": "stream",
     "text": [
      "18:04:34: Producer is producing data...\n",
      "18:04:34: Consumer 0 waiting for data...\n",
      "18:04:34: Consumer 1 waiting for data...\n",
      "18:04:36: Producer notifying consumers...\n",
      "18:04:36: Consumer 0 has consumed Data produced by producer\n",
      "18:04:36: Consumer 1 has consumed Data produced by producer\n"
     ]
    }
   ],
   "source": [
    "from multiprocessing import Process, Condition, Manager\n",
    "import time\n",
    "import logging\n",
    "\n",
    "def setup_logging():\n",
    "    # Configure the logging format to include timestamps\n",
    "    log_format = '%(asctime)s: %(message)s'\n",
    "    logging.basicConfig(level=logging.INFO, format=log_format, datefmt='%H:%M:%S')\n",
    "\n",
    "def producer(condition: Condition, shared_data):\n",
    "    logging.info(\"Producer is producing data...\")\n",
    "    with condition:\n",
    "        time.sleep(2)  # Simulate data production time\n",
    "        shared_data.append(\"Data produced by producer\")\n",
    "        logging.info(\"Producer notifying consumers...\")\n",
    "        condition.notify_all()  # Notify all waiting consumers\n",
    "\n",
    "def consumer(condition: Condition, shared_data, id: int):\n",
    "    logging.info(f\"Consumer {id} waiting for data...\")\n",
    "    with condition:\n",
    "        logging.info(f\"Consumer {id} has consumed {shared_data[0]}\")\n",
    "\n",
    "def run():\n",
    "    # Shared objects\n",
    "    condition = Condition()\n",
    "    shared_data = Manager().list()\n",
    "\n",
    "    # Creating a producer and consumer processes\n",
    "    producer_process = Process(target=producer, args=(condition, shared_data))\n",
    "    consumer_processes = [Process(target=consumer, args=(condition, shared_data, i)) for i in range(2)]\n",
    "\n",
    "    # Start all processes\n",
    "    producer_process.start()\n",
    "    for cp in consumer_processes:\n",
    "        cp.start()\n",
    "\n",
    "    # Wait for\n",
    "    producer_process.join()\n",
    "    for cp in consumer_processes:\n",
    "        cp.join()\n",
    "\n",
    "setup_logging()\n",
    "run()"
   ]
  }
 ],
 "metadata": {
  "kernelspec": {
   "display_name": "Python 3",
   "language": "python",
   "name": "python3"
  },
  "language_info": {
   "codemirror_mode": {
    "name": "ipython",
    "version": 3
   },
   "file_extension": ".py",
   "mimetype": "text/x-python",
   "name": "python",
   "nbconvert_exporter": "python",
   "pygments_lexer": "ipython3",
   "version": "3.10.12"
  }
 },
 "nbformat": 4,
 "nbformat_minor": 2
}
