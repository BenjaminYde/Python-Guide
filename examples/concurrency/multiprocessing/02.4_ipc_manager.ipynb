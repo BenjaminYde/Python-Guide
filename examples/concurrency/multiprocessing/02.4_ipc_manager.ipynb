{
 "cells": [
  {
   "cell_type": "markdown",
   "metadata": {},
   "source": [
    "## Using Manager\n",
    "\n",
    "- **Process 1 (Adder)**: This process will add elements to a shared list.\n",
    "- **Process 2 (Modifier)**: This process will modify the elements added by Process 1."
   ]
  },
  {
   "cell_type": "code",
   "execution_count": 2,
   "metadata": {},
   "outputs": [
    {
     "name": "stdout",
     "output_type": "stream",
     "text": [
      "Adder: Added numbers 0-4 to the list.\n",
      "Modifier: Doubled the numbers in the list.\n",
      "Final list: [0, 2, 4, 6, 8]\n"
     ]
    }
   ],
   "source": [
    "from multiprocessing import Process, Manager\n",
    "\n",
    "def adder(shared_list):\n",
    "    # Adds data to the shared list\n",
    "    for i in range(5):\n",
    "        shared_list.append(i)\n",
    "    print(\"Adder: Added numbers 0-4 to the list.\")\n",
    "\n",
    "def modifier(shared_list):\n",
    "    # Modifies data in the shared list\n",
    "    for i in range(5):\n",
    "        shared_list[i] = shared_list[i] * 2\n",
    "    print(\"Modifier: Doubled the numbers in the list.\")\n",
    "\n",
    "def run():\n",
    "    # Using Manager to create a shared list\n",
    "    manager = Manager()\n",
    "    shared_list = manager.list()\n",
    "\n",
    "    # Creating two processes\n",
    "    p1 = Process(target=adder, args=(shared_list,))\n",
    "    p2 = Process(target=modifier, args=(shared_list,))\n",
    "\n",
    "    # Starting the processes\n",
    "    p1.start()\n",
    "    p1.join()  # Wait for p1 to finish before starting p2\n",
    "\n",
    "    p2.start()\n",
    "    p2.join()  # Wait for p2 to finish\n",
    "\n",
    "    # Accessing the modified list in the main process\n",
    "    print(f\"Final list: {list(shared_list)}\")\n",
    "\n",
    "run()"
   ]
  }
 ],
 "metadata": {
  "kernelspec": {
   "display_name": "Python 3",
   "language": "python",
   "name": "python3"
  },
  "language_info": {
   "codemirror_mode": {
    "name": "ipython",
    "version": 3
   },
   "file_extension": ".py",
   "mimetype": "text/x-python",
   "name": "python",
   "nbconvert_exporter": "python",
   "pygments_lexer": "ipython3",
   "version": "3.10.12"
  }
 },
 "nbformat": 4,
 "nbformat_minor": 2
}
