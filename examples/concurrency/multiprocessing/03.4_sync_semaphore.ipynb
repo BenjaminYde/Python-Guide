{
 "cells": [
  {
   "cell_type": "markdown",
   "metadata": {},
   "source": [
    "## Using Semaphore\n",
    "\n",
    "- **Shared Resource**: A hypothetical resource, access to which needs to be limited.\n",
    "- **Processes**: Multiple processes trying to access the shared resource, but only a limited number can access it simultaneously."
   ]
  },
  {
   "cell_type": "code",
   "execution_count": 1,
   "metadata": {},
   "outputs": [
    {
     "name": "stdout",
     "output_type": "stream",
     "text": [
      "Process 0 is accessing the shared resource.\n",
      "Process 1 is accessing the shared resource.\n",
      "Process 0 is releasing the shared resource.\n",
      "Process 2 is accessing the shared resource.\n",
      "Process 1 is releasing the shared resource.\n",
      "Process 3 is accessing the shared resource.\n",
      "Process 2 is releasing the shared resource.\n",
      "Process 4 is accessing the shared resource.\n",
      "Process 3 is releasing the shared resource.\n",
      "Process 4 is releasing the shared resource.\n"
     ]
    }
   ],
   "source": [
    "from multiprocessing import Process, Semaphore\n",
    "import time\n",
    "\n",
    "def access_resource(semaphore, process_id):\n",
    "    with semaphore:\n",
    "        # Simulate accessing a shared resource\n",
    "        print(f\"Process {process_id} is accessing the shared resource.\")\n",
    "        time.sleep(1)  # Simulate time spent with the resource\n",
    "        print(f\"Process {process_id} is releasing the shared resource.\")\n",
    "\n",
    "def run():\n",
    "    # Semaphore with a capacity of 2, allowing two processes to access the resource at a time\n",
    "    semaphore = Semaphore(2)\n",
    "\n",
    "    # Create and start 5 processes\n",
    "    processes = [Process(target=access_resource, args=(semaphore, i)) for i in range(5)]\n",
    "    for p in processes:\n",
    "        p.start()\n",
    "\n",
    "    # Wait for all processes to complete\n",
    "    for p in processes:\n",
    "        p.join()\n",
    "\n",
    "run()"
   ]
  },
  {
   "cell_type": "markdown",
   "metadata": {},
   "source": [
    "### Explanation\n",
    "\n",
    "**Semaphore**: We create a Semaphore with a value of 2, which means only two processes can access the shared resource at the same time.\n",
    "\n",
    "**Processes**: Each process represents a task trying to access the shared resource. When a process starts, it tries to acquire the semaphore.\n",
    "\n",
    "**Resource Access**: When a process acquires the semaphore (enters the with semaphore: block), it simulates using the resource. The time.sleep call simulates the time taken by the process to work with the resource.\n",
    "\n",
    "**Release of Semaphore**: Upon completing its work, each process automatically releases the semaphore (exiting the with semaphore: block), allowing another waiting process to access the resource."
   ]
  }
 ],
 "metadata": {
  "kernelspec": {
   "display_name": "Python 3",
   "language": "python",
   "name": "python3"
  },
  "language_info": {
   "codemirror_mode": {
    "name": "ipython",
    "version": 3
   },
   "file_extension": ".py",
   "mimetype": "text/x-python",
   "name": "python",
   "nbconvert_exporter": "python",
   "pygments_lexer": "ipython3",
   "version": "3.10.12"
  }
 },
 "nbformat": 4,
 "nbformat_minor": 2
}
