{
 "cells": [
  {
   "cell_type": "markdown",
   "metadata": {},
   "source": [
    "## Using Pipes\n",
    "\n",
    "- **Sender Process**: This process will send a series of messages to the receiver.\n",
    "- **Receiver Process**: This process will receive messages from the sender and print them.\n",
    "- **Pipe**: A two-way communication channel between the sender and receiver."
   ]
  },
  {
   "cell_type": "code",
   "execution_count": 1,
   "metadata": {},
   "outputs": [
    {
     "name": "stderr",
     "output_type": "stream",
     "text": [
      "2023-12-23 18:04:42: Sender sending: Hello\n",
      "2023-12-23 18:04:42: Sender sending: World\n",
      "2023-12-23 18:04:42: Sender sending: Python\n",
      "2023-12-23 18:04:42: Sender sending: Multiprocessing\n",
      "2023-12-23 18:04:42: Sender sending: End\n",
      "2023-12-23 18:04:42: Receiver got: Hello\n",
      "2023-12-23 18:04:42: Receiver got: World\n",
      "2023-12-23 18:04:42: Receiver got: Python\n",
      "2023-12-23 18:04:42: Receiver got: Multiprocessing\n",
      "2023-12-23 18:04:42: Receiver got: End\n"
     ]
    }
   ],
   "source": [
    "from multiprocessing import Pipe, Process\n",
    "from multiprocessing.connection import Connection\n",
    "import logging\n",
    "\n",
    "def setup_logging():\n",
    "    # Configure the logging format to include timestamps\n",
    "    log_format = '%(asctime)s: %(message)s'\n",
    "    logging.basicConfig(level=logging.INFO, format=log_format, datefmt='%Y-%m-%d %H:%M:%S')\n",
    "    \n",
    "def sender(connection: Connection):\n",
    "    messages = [\"Hello\", \"World\", \"Python\", \"Multiprocessing\", \"End\"]\n",
    "    for message in messages:\n",
    "        logging.info(f\"Sender sending: {message}\")\n",
    "        connection.send(message)\n",
    "    connection.close()\n",
    "\n",
    "def receiver(connection: Connection):\n",
    "    while True:\n",
    "        message = connection.recv()\n",
    "        logging.info(f\"Receiver got: {message}\")\n",
    "        if message == \"End\":\n",
    "            break\n",
    "    connection.close()\n",
    "\n",
    "def run():\n",
    "    # Creating a pipe\n",
    "    parent_connection, child_connection = Pipe()\n",
    "\n",
    "    # Creating processes\n",
    "    p1 = Process(target=sender, args=(parent_connection,))\n",
    "    p2 = Process(target=receiver, args=(child_connection,))\n",
    "\n",
    "    # Starting processes\n",
    "    p1.start()\n",
    "    p2.start()\n",
    "\n",
    "    # Wait for processes to complete\n",
    "    p1.join()\n",
    "    p2.join()\n",
    "\n",
    "setup_logging()\n",
    "run()"
   ]
  }
 ],
 "metadata": {
  "kernelspec": {
   "display_name": "Python 3",
   "language": "python",
   "name": "python3"
  },
  "language_info": {
   "codemirror_mode": {
    "name": "ipython",
    "version": 3
   },
   "file_extension": ".py",
   "mimetype": "text/x-python",
   "name": "python",
   "nbconvert_exporter": "python",
   "pygments_lexer": "ipython3",
   "version": "3.10.12"
  }
 },
 "nbformat": 4,
 "nbformat_minor": 2
}
