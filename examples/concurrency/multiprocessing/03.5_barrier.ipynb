{
 "cells": [
  {
   "cell_type": "markdown",
   "metadata": {},
   "source": [
    "## Using Barrier\n",
    "\n",
    "- **Processes**: A set of processes that perform some part of a task and then need to synchronize before moving to the next part.\n",
    "- **Barrier**: A synchronization point where all processes wait until each has completed its first part of the task."
   ]
  },
  {
   "cell_type": "code",
   "execution_count": 2,
   "metadata": {},
   "outputs": [
    {
     "name": "stdout",
     "output_type": "stream",
     "text": [
      "Process 0 is working for 0.39 seconds.\n",
      "Process 1 is working for 0.54 seconds.\n",
      "Process 2 is working for 0.51 seconds.\n",
      "Process 3 is working for 0.64 seconds.\n",
      "Process 0 reached the barrier.\n",
      "Process 2 reached the barrier.\n",
      "Process 1 reached the barrier.\n",
      "Process 3 reached the barrier.\n",
      "Process 3 passed the barrier and continues working.Process 0 passed the barrier and continues working.Process 1 passed the barrier and continues working.Process 2 passed the barrier and continues working.\n",
      "\n",
      "\n",
      "\n"
     ]
    }
   ],
   "source": [
    "from multiprocessing import Process, Barrier\n",
    "import time\n",
    "import random\n",
    "\n",
    "def task(barrier: Barrier, process_id: int):\n",
    "    # Simulate doing some work before reaching the barrier\n",
    "    time_to_sleep = random.uniform(0.1, 1.0)\n",
    "    print(f\"Process {process_id} is working for {time_to_sleep:.2f} seconds.\")\n",
    "    time.sleep(time_to_sleep)\n",
    "    \n",
    "    # Wait for other processes at the barrier\n",
    "    print(f\"Process {process_id} reached the barrier.\")\n",
    "    barrier.wait()\n",
    "\n",
    "    # Continue with the next part of the task\n",
    "    print(f\"Process {process_id} passed the barrier and continues working.\")\n",
    "\n",
    "def run():\n",
    "    num_processes = 4\n",
    "    barrier = Barrier(num_processes)\n",
    "\n",
    "    # Create and start processes\n",
    "    processes = [Process(target=task, args=(barrier, i)) for i in range(num_processes)]\n",
    "    for p in processes:\n",
    "        p.start()\n",
    "\n",
    "    # Wait for all processes to complete\n",
    "    for p in processes:\n",
    "        p.join()\n",
    "\n",
    "run()"
   ]
  },
  {
   "cell_type": "markdown",
   "metadata": {},
   "source": [
    "### Explanation\n",
    "\n",
    "**Barrier Initialization**: We create a Barrier object with a count equal to the number of processes (num_processes). This means the Barrier will release all processes once num_processes have called wait() on it.\n",
    "\n",
    "**Process Function (task)**: Each process performs some work (simulated by time.sleep()), reaches the Barrier and calls wait(). The process is blocked at the wait() call until all processes reach the Barrier. Once all processes have reached the Barrier, they all proceed past the wait() call.\n",
    "\n",
    "**Post-Barrier Execution**: After passing the Barrier, each process continues with the rest of its task, which in this example is simply a print statement."
   ]
  }
 ],
 "metadata": {
  "kernelspec": {
   "display_name": "Python 3",
   "language": "python",
   "name": "python3"
  },
  "language_info": {
   "codemirror_mode": {
    "name": "ipython",
    "version": 3
   },
   "file_extension": ".py",
   "mimetype": "text/x-python",
   "name": "python",
   "nbconvert_exporter": "python",
   "pygments_lexer": "ipython3",
   "version": "3.10.12"
  }
 },
 "nbformat": 4,
 "nbformat_minor": 2
}
