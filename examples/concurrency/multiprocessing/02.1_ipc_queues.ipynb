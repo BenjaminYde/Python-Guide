{
 "cells": [
  {
   "cell_type": "markdown",
   "metadata": {},
   "source": [
    "## Using Queues\n",
    "\n",
    "- **Producers**: Multiple producer processes will generate numbers.\n",
    "- **Consumer**: A single consumer process will read these numbers and sum them.\n",
    "- **Queue**: A shared queue to pass data from producers to the consumer."
   ]
  },
  {
   "cell_type": "code",
   "execution_count": 1,
   "metadata": {},
   "outputs": [
    {
     "name": "stdout",
     "output_type": "stream",
     "text": [
      "Producer 0 producing: 100\n",
      "Producer 1 producing: 91\n",
      "Producer 2 producing: 27\n",
      "Consumer processing data: 100\n",
      "Consumer processing data: 91\n",
      "Consumer processing data: 27\n",
      "Producer 0 producing: 58\n",
      "Consumer processing data: 58\n",
      "Producer 1 producing: 45\n",
      "Consumer processing data: 45\n",
      "Producer 2 producing: 67\n",
      "Consumer processing data: 67\n",
      "Producer 0 producing: 14\n",
      "Consumer processing data: 14\n",
      "Producer 1 producing: 72\n",
      "Consumer processing data: 72\n",
      "Producer 2 producing: 63\n",
      "Consumer processing data: 63\n",
      "Producer 0 producing: 79\n",
      "Consumer processing data: 79\n",
      "Producer 1 producing: 8\n",
      "Consumer processing data: 8\n",
      "Producer 2 producing: 80\n",
      "Consumer processing data: 80\n",
      "Producer 0 producing: 38\n",
      "Consumer processing data: 38\n",
      "Producer 1 producing: 8\n",
      "Consumer processing data: 8\n",
      "Producer 2 producing: 1\n",
      "Consumer processing data: 1\n",
      "Total sum of numbers: 751\n"
     ]
    }
   ],
   "source": [
    "import multiprocessing\n",
    "import time\n",
    "import random\n",
    "\n",
    "def produce(queue: multiprocessing.Queue, id: int):\n",
    "    for i in range(5):\n",
    "        num = random.randint(1, 100)\n",
    "        print(f\"Producer {id} producing: {num}\")\n",
    "        queue.put(num)\n",
    "        time.sleep(0.25)\n",
    "    queue.put('DONE')  # Indicate completion\n",
    "\n",
    "def consume(queue: multiprocessing.Queue, total_producers: int):\n",
    "    total_sum = 0\n",
    "    done_count = 0\n",
    "\n",
    "    while True:\n",
    "        # Get data\n",
    "        data = queue.get()\n",
    "        # Consume Data\n",
    "        if data != \"DONE\":\n",
    "            total_sum += data\n",
    "            print(f\"Consumer processing data: {data}\")\n",
    "        # Return when consumed all data\n",
    "        else:\n",
    "            done_count += 1\n",
    "            if done_count == total_producers:\n",
    "                break            \n",
    "\n",
    "    print(f\"Total sum of numbers: {total_sum}\")\n",
    "\n",
    "def run():\n",
    "    total_producers = 3\n",
    "    queue = multiprocessing.Queue()\n",
    "\n",
    "    # Creating producer processes\n",
    "    producers = [multiprocessing.Process(target=produce, args=(queue, i)) for i in range(total_producers)]\n",
    "\n",
    "    # Creating the consumer process\n",
    "    consumer = multiprocessing.Process(target=consume, args=(queue, total_producers))\n",
    "\n",
    "    # Start all producers\n",
    "    for p in producers:\n",
    "        p.start()\n",
    "\n",
    "    # Start consumer\n",
    "    consumer.start()\n",
    "\n",
    "    # Wait for all producers to finish\n",
    "    for p in producers:\n",
    "        p.join()\n",
    "\n",
    "    # Wait for the consumer to finish\n",
    "    consumer.join()\n",
    "\n",
    "run()"
   ]
  }
 ],
 "metadata": {
  "kernelspec": {
   "display_name": "Python 3",
   "language": "python",
   "name": "python3"
  },
  "language_info": {
   "codemirror_mode": {
    "name": "ipython",
    "version": 3
   },
   "file_extension": ".py",
   "mimetype": "text/x-python",
   "name": "python",
   "nbconvert_exporter": "python",
   "pygments_lexer": "ipython3",
   "version": "3.10.12"
  }
 },
 "nbformat": 4,
 "nbformat_minor": 2
}
