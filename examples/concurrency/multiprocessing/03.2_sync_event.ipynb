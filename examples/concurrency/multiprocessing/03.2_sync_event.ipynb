{
 "cells": [
  {
   "cell_type": "markdown",
   "metadata": {},
   "source": [
    "## Using Event"
   ]
  },
  {
   "cell_type": "code",
   "execution_count": 1,
   "metadata": {},
   "outputs": [
    {
     "name": "stderr",
     "output_type": "stream",
     "text": [
      "18:04:28: Worker 0 waiting for the event to be set.\n",
      "18:04:28: Worker 1 waiting for the event to be set.\n",
      "18:04:28: Worker 2 waiting for the event to be set.\n",
      "18:04:28: Controller is preparing to start workers.\n",
      "18:04:30: Controller is triggering the event.\n",
      "18:04:30: Worker 2 has started working.\n",
      "18:04:30: Worker 1 has started working.\n",
      "18:04:30: Worker 0 has started working.\n"
     ]
    }
   ],
   "source": [
    "from multiprocessing import Process, Event\n",
    "import time\n",
    "import logging\n",
    "\n",
    "def setup_logging():\n",
    "    # Configure the logging format to include timestamps\n",
    "    log_format = '%(asctime)s: %(message)s'\n",
    "    logging.basicConfig(level=logging.INFO, format=log_format, datefmt='%H:%M:%S')\n",
    "    \n",
    "def worker(event: Event, id: int):\n",
    "    logging.info(f\"Worker {id} waiting for the event to be set.\")\n",
    "    event.wait()  # Block until the event is set\n",
    "    logging.info(f\"Worker {id} has started working.\")\n",
    "\n",
    "def controller(event: Event):\n",
    "    logging.info(\"Controller is preparing to start workers.\")\n",
    "    time.sleep(2)  # Simulate some preparation work\n",
    "    logging.info(\"Controller is triggering the event.\")\n",
    "    event.set()  # Set the event, allowing all waiting workers to proceed\n",
    "\n",
    "def run():\n",
    "    # Creating an Event object\n",
    "    start_event = Event()\n",
    "\n",
    "    # Creating worker processes\n",
    "    workers = [Process(target=worker, args=(start_event, i)) for i in range(3)]\n",
    "\n",
    "    # Creating a controller process\n",
    "    ctrl_process = Process(target=controller, args=(start_event,))\n",
    "\n",
    "    # Start all processes\n",
    "    for w in workers:\n",
    "        w.start()\n",
    "    ctrl_process.start()\n",
    "\n",
    "    # Wait for all processes to complete\n",
    "    for w in workers:\n",
    "        w.join()\n",
    "    ctrl_process.join()\n",
    "\n",
    "setup_logging()\n",
    "run()"
   ]
  }
 ],
 "metadata": {
  "kernelspec": {
   "display_name": "Python 3",
   "language": "python",
   "name": "python3"
  },
  "language_info": {
   "codemirror_mode": {
    "name": "ipython",
    "version": 3
   },
   "file_extension": ".py",
   "mimetype": "text/x-python",
   "name": "python",
   "nbconvert_exporter": "python",
   "pygments_lexer": "ipython3",
   "version": "3.10.12"
  }
 },
 "nbformat": 4,
 "nbformat_minor": 2
}
